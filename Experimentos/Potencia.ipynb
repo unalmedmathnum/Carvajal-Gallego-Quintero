{
 "cells": [
  {
   "cell_type": "code",
   "execution_count": 7,
   "metadata": {},
   "outputs": [
    {
     "name": "stdout",
     "output_type": "stream",
     "text": [
      "El procedimiento fue exitoso: \n",
      "El autovalor es: 4.0, y el autovector es [ 1. -2.].\n",
      "El procedimiento fue exitoso: \n",
      "El autovalor es: 5.0, y el autovector es [1. 3.].\n",
      "El procedimiento fue exitoso: \n",
      "El autovalor es: 6.0, y el autovector es [1.  1.5].\n",
      "El procedimiento fue exitoso: \n",
      "El autovalor es: 5.0, y el autovector es [1. 1.].\n",
      "El procedimiento fue exitoso: \n",
      "El autovalor es: 4.507018644092976, y el autovector es [1.         0.93673368 1.28514248].\n",
      "El procedimiento fue exitoso: \n",
      "El autovalor es: 4.048914599919812, y el autovector es [1.         1.44504173 0.80193804].\n",
      "El procedimiento fue exitoso: \n",
      "El autovalor es: 4.124885419764574, y el autovector es [1.         0.90539067 0.60974737].\n",
      "Número máximo de iteraciones excedido. \n",
      "El procedimiento no fue exitoso.\n",
      "Número máximo de iteraciones excedido. \n",
      "El procedimiento no fue exitoso.\n"
     ]
    }
   ],
   "source": [
    "import os #libreria para manejar archivos\n",
    " #Sale de la carpeta Experimentos\n",
    "%run metodo_potencia.ipynb #Corre metodo_potencia y guarda las funciones"
   ]
  },
  {
   "cell_type": "code",
   "execution_count": 8,
   "metadata": {},
   "outputs": [
    {
     "name": "stdout",
     "output_type": "stream",
     "text": [
      "El procedimiento fue exitoso: \n",
      "El autovalor es: 4.507018644092976, y el autovector es [1.         0.93673368 1.28514248].\n"
     ]
    }
   ],
   "source": [
    "#Ingrese los datos para testear\n",
    "N: int = 500\n",
    "A = [[1,1,2],[2,1,1],[1,1,3]]\n",
    "n: int = len(A)\n",
    "x = [1, 1, 1]\n",
    "tol: float = 10**(-16)\n",
    "\n",
    "salida = metodo_potencia(N, n, A, x, tol)\n",
    "\n",
    "print(salida)"
   ]
  },
  {
   "cell_type": "code",
   "execution_count": 13,
   "metadata": {},
   "outputs": [
    {
     "name": "stdout",
     "output_type": "stream",
     "text": [
      "Por favor, introduce las filas de la matriz con los elementos separados por espacio:\n",
      "[[2. 1.]\n",
      " [4. 3.]]\n",
      "Convergió después de 1 iteraciones.\n",
      "El autovector asociado a 0.4384471871308051 es [[ 0.37873219]\n",
      " [-0.59141031]]\n",
      "Convergió después de 1 iteraciones.\n",
      "El autovector asociado a 4.56155281275278 es [[0.62126781]\n",
      " [1.59141031]]\n"
     ]
    }
   ],
   "source": [
    "%run polinomio_caracteristico.ipynb"
   ]
  },
  {
   "cell_type": "code",
   "execution_count": null,
   "metadata": {},
   "outputs": [],
   "source": []
  }
 ],
 "metadata": {
  "kernelspec": {
   "display_name": "Python 3",
   "language": "python",
   "name": "python3"
  },
  "language_info": {
   "codemirror_mode": {
    "name": "ipython",
    "version": 3
   },
   "file_extension": ".py",
   "mimetype": "text/x-python",
   "name": "python",
   "nbconvert_exporter": "python",
   "pygments_lexer": "ipython3",
   "version": "3.11.4"
  }
 },
 "nbformat": 4,
 "nbformat_minor": 2
}
