{
 "cells": [
  {
   "cell_type": "markdown",
   "id": "df6a6599-c3d7-4b22-ac98-7a31f6bafa6c",
   "metadata": {},
   "source": [
    "## Experimentos\n",
    "Copiamos los códigos de las funciones usadas en QR, e importamos las matrices propuestas para usar como ejemplos"
   ]
  },
  {
   "cell_type": "code",
   "execution_count": 3,
   "id": "81c931ac-f328-4371-a5b2-87c68c70ac23",
   "metadata": {},
   "outputs": [],
   "source": [
    "import numpy as np\n",
    "def QR_factor(A): #Gram-Schmidt modificado\n",
    "    \"\"\"\n",
    "    Entrada: A matriz de numpy invertible n x n\n",
    "    Proceso de ortogonalización de Gram-Smith modificado en los vectores columna de A\n",
    "    Salida: Q y R con Q ortogonal y R triangular superior con diagonal positiva tales que A = Q R\n",
    "    \"\"\"\n",
    "    n = A.shape[0]\n",
    "    v = np.zeros((n,n)) \n",
    "    Q = np.zeros((n,n))\n",
    "    R = np.zeros((n,n))\n",
    "   \n",
    "    for i in range(n):\n",
    "        v[:,i] = A[:,i] #Inicializamos A\n",
    "    #print(v)\n",
    "    for i in range(n):\n",
    "        R[i,i] = np.linalg.norm( v[:,i]) #Como esto es el coeficiente de q_i en la i-ésima fila, es la i,i-ésima componente de R\n",
    "        Q[:,i] = (1/R[i,i]) * v[:,i] #Normalizamos v_i\n",
    "        for k in range(i+1,n):\n",
    "            R[i,k] = Q[:,i] @ v[:,k] #Esto será el coeficiente de q_i en la k-ésima fila, por tanto es la i,k-ésima componente de R\n",
    "            v[:,k] = v[:,k] - R[i,k] * Q[:,i] #Actualizamos v_k restándole la proyección <q_i,v_k>q_i\n",
    "    return Q,R"
   ]
  },
  {
   "cell_type": "code",
   "execution_count": 41,
   "id": "87f36832-7126-4247-9d45-1805aa19f68f",
   "metadata": {},
   "outputs": [],
   "source": [
    "def bottom_half(A):\n",
    "    \"\"\"\n",
    "    Almacena las componentes debajo de la diagonal superior de A\n",
    "    \"\"\"\n",
    "    n = A.shape[0]\n",
    "    L=[]\n",
    "    for i in range(n):\n",
    "        T = list(A[i,:])\n",
    "        for k in range(i):   \n",
    "            L.append(T[k])\n",
    "    return L"
   ]
  },
  {
   "cell_type": "code",
   "execution_count": 119,
   "id": "d182fc0f-764d-4f7a-835f-4cf84ceaad0c",
   "metadata": {},
   "outputs": [],
   "source": [
    "def QR_algor(A,max_iteraciones=10000,tol=10e-8):\n",
    "    \"\"\"\n",
    "    Entrada: A matriz de numpy que debería ser simple e invertible, con autovalores distintos en módulo\n",
    "             max_iteraciones: tope de recursion. si se alcanza se retorna error\n",
    "             tol: tolerancia, que tan cerca de ser triangular superior es la matriz A^(n) en el paso n\n",
    "    Salida: B matriz (casi) triangular superior similar a A, con sus autovalores ordenados por su módulo en la diagonal, lista con los autovalores, iteraciones necesarias\n",
    "    \"\"\"\n",
    "    iteracion = 0\n",
    "    n=A.shape[0]\n",
    "    while iteracion < max_iteraciones:\n",
    "        iteracion += 1\n",
    "        Q,R = QR_factor(A) #Calculamos la descomposición A_k = Q'_k R'_k\n",
    "        A = R @ Q  #Y hacemos A_(k+1) = R'_k Q'_k. Sabemos que sto es equivalente a Q_k^T A Q_k obtenidas por iteración simultánea, y converge a una matriz triangular superior\n",
    "        L = [abs(l) for l in bottom_half(A)] #Para chequear si estamos suficientemente cerca, tomamos los valores absolutos de la mitad triangular inferior de A...\n",
    "        if max(L) < tol: #Y aceptamos si todos son menores que la tolerancia\n",
    "            Autovalores = [A[i][i] for i in range(n)] #Almacenamos los autovalores aqui\n",
    "            return A,Autovalores,iteracion\n",
    "    print(A)\n",
    "    print(Q)\n",
    "    print(Q.transpose() @ Q)\n",
    "    print (\"Iteraciones máximas alcanzadas\")\n",
    "    print (\"Matriz actual:\")\n",
    "    return A,[],iteracion #Error si no converge suficientemente rápido. Igual es de interés ver a que resultado se llegó"
   ]
  },
  {
   "cell_type": "code",
   "execution_count": 142,
   "id": "22644337-8cf2-4941-a96f-20c2a290dce3",
   "metadata": {},
   "outputs": [],
   "source": [
    "A = np.array([[2, 1], \n",
    "             [3, 4]])\n",
    "\n",
    "B = np.array([[3, 2],\n",
    "             [3, 4]])  \n",
    "\n",
    "C = np.array([[2, 3],\n",
    "             [1, 4]])\n",
    "\n",
    "D = np.array([[1, 1, 2],\n",
    "             [2, 1, 1], \n",
    "             [1, 1, 3]])\n",
    "\n",
    "E = np.array([[1, 1, 2],\n",
    "             [2, 1, 3],\n",
    "             [1, 1, 1]])\n",
    "\n",
    "F = np.array([[2, 1, 2],\n",
    "             [1, 1, 3],\n",
    "             [1, 1, 1]])\n",
    "\n",
    "G = np.array([[1, 1, 1, 2], \n",
    "             [2, 1, 1, 1],\n",
    "             [3, 2, 1, 2],\n",
    "             [2, 1, 1, 4]])\n",
    "\n",
    "H = np.array([[1, 2, 1, 2],\n",
    "             [2, 1, 1, 1], \n",
    "             [3, 2, 1, 2],\n",
    "             [2, 1, 1, 4]])\n",
    "matrices_ejemplo = [A,B,C,D,E,F,G,H]\n",
    "nombres = ['A','B','C','D','E','F','G','H']"
   ]
  },
  {
   "cell_type": "markdown",
   "id": "e92632af-092e-4658-9bc8-ed2e37585dab",
   "metadata": {},
   "source": [
    "Corremos el algoritmo en las matrices de ejemplo dadas"
   ]
  },
  {
   "cell_type": "code",
   "execution_count": 141,
   "id": "a2a18b62-e728-4df8-a1bd-8c0f17f6a216",
   "metadata": {},
   "outputs": [
    {
     "name": "stdout",
     "output_type": "stream",
     "text": [
      "Matriz (casi) diagonal similar a A:\n",
      "[[5.000001 -1.999998]\n",
      " [0.000002 0.999999]]\n",
      "Autovalores de A:[5.000001228798867, 0.9999987712011326], en 9 pasos\n",
      "Matriz (casi) diagonal similar a B:\n",
      "[[6.000001 -0.999997]\n",
      " [0.000003 0.999999]]\n",
      "Autovalores de B:[6.0000006869679465, 0.9999993130320568], en 8 pasos\n",
      "Matriz (casi) diagonal similar a C:\n",
      "[[4.999998 2.000004]\n",
      " [0.000004 1.000002]]\n",
      "Autovalores de C:[4.999997951996856, 1.0000020480031455], en 9 pasos\n",
      "Matriz (casi) diagonal similar a D:\n",
      "[[4.507019 0.749926 0.196802]\n",
      " [0.000000 0.778117 1.182749]\n",
      " [0.000000 0.000006 -0.285135]]\n",
      "Autovalores de D:[4.5070186438981645, 0.7781167256742583, -0.285135369572424], en 13 pasos\n",
      "Matriz (casi) diagonal similar a E:\n",
      "[[4.048917 2.394759 0.498778]\n",
      " [0.000000 -0.692024 -0.127854]\n",
      " [0.000000 0.000006 -0.356894]]\n",
      "Autovalores de E:[4.048917339522198, -0.692023659831876, -0.35689367969032243], en 17 pasos\n",
      "Matriz (casi) diagonal similar a F:\n",
      "[[4.124885 1.839028 1.035010]\n",
      " [-0.000000 -0.761562 -0.739402]\n",
      " [0.000000 0.000009 0.636677]]\n",
      "Autovalores de F:[4.124885419764574, -0.7615619253279566, 0.6366765055633824], en 73 pasos\n",
      "Matriz (casi) diagonal similar a G:\n",
      "[[6.634534 -1.179094 -1.834582 0.943001]\n",
      " [-0.000000 1.508558 -1.157359 0.098258]\n",
      " [0.000000 -0.000010 -0.735638 0.075374]\n",
      " [0.000000 -0.000000 -0.000006 -0.407455]]\n",
      "Autovalores de G:[6.634534463630889, 1.5085584091586306, -0.7356379587150321, -0.40745491407448553], en 18 pasos\n",
      "Matriz (casi) diagonal similar a H:\n",
      "[[6.827262 -0.794690 1.534731 -1.482844]\n",
      " [-0.000000 1.728118 0.648952 -0.361928]\n",
      " [0.000000 -0.000009 -1.087937 -0.511955]\n",
      " [0.000000 -0.000000 -0.000000 -0.467443]]\n",
      "Autovalores de H:[6.827262250104042, 1.7281179906705733, -1.0879370060385931, -0.46744323473602284], en 31 pasos\n"
     ]
    }
   ],
   "source": [
    "for j in range(len(matrices_ejemplo)):\n",
    "    AA,Autovalores,i = QR_algor(matrices_ejemplo[j],tol=1e-5)\n",
    "    with np.printoptions(precision=6, suppress=True, formatter={'float': '{:0.6f}'.format}, linewidth=100):\n",
    "        print(f\"Matriz (casi) diagonal similar a { nombres[j] }:\")\n",
    "        print(AA)\n",
    "        print(f\"Autovalores de {nombres[j]}:{Autovalores}, en {i} pasos\")"
   ]
  },
  {
   "cell_type": "markdown",
   "id": "2a610bcb-2132-4cdf-b2a9-f38963169002",
   "metadata": {},
   "source": []
  },
  {
   "cell_type": "markdown",
   "id": "4a4b0844-4d51-4a91-9f6e-7ffbaff45675",
   "metadata": {},
   "source": []
  }
 ],
 "metadata": {
  "kernelspec": {
   "display_name": "Python 3 (ipykernel)",
   "language": "python",
   "name": "python3"
  },
  "language_info": {
   "codemirror_mode": {
    "name": "ipython",
    "version": 3
   },
   "file_extension": ".py",
   "mimetype": "text/x-python",
   "name": "python",
   "nbconvert_exporter": "python",
   "pygments_lexer": "ipython3",
   "version": "3.12.7"
  }
 },
 "nbformat": 4,
 "nbformat_minor": 5
}
