{
 "cells": [
  {
   "cell_type": "markdown",
   "id": "df6a6599-c3d7-4b22-ac98-7a31f6bafa6c",
   "metadata": {},
   "source": [
    "## Experimentos\n",
    "Copiamos los códigos de las funciones usadas en QR, e importamos las matrices propuestas para usar como ejemplos"
   ]
  },
  {
   "cell_type": "code",
   "execution_count": 3,
   "id": "81c931ac-f328-4371-a5b2-87c68c70ac23",
   "metadata": {},
   "outputs": [],
   "source": [
    "import numpy as np\n",
    "def QR_factor(A): #Gram-Schmidt modificado\n",
    "    \"\"\"\n",
    "    Entrada: A matriz de numpy invertible n x n\n",
    "    Proceso de ortogonalización de Gram-Smith modificado en los vectores columna de A\n",
    "    Salida: Q y R con Q ortogonal y R triangular superior con diagonal positiva tales que A = Q R\n",
    "    \"\"\"\n",
    "    n = A.shape[0]\n",
    "    v = np.zeros((n,n)) \n",
    "    Q = np.zeros((n,n))\n",
    "    R = np.zeros((n,n))\n",
    "   \n",
    "    for i in range(n):\n",
    "        v[:,i] = A[:,i] #Inicializamos A\n",
    "    #print(v)\n",
    "    for i in range(n):\n",
    "        R[i,i] = np.linalg.norm( v[:,i]) #Como esto es el coeficiente de q_i en la i-ésima fila, es la i,i-ésima componente de R\n",
    "        Q[:,i] = (1/R[i,i]) * v[:,i] #Normalizamos v_i\n",
    "        for k in range(i+1,n):\n",
    "            R[i,k] = Q[:,i] @ v[:,k] #Esto será el coeficiente de q_i en la k-ésima fila, por tanto es la i,k-ésima componente de R\n",
    "            v[:,k] = v[:,k] - R[i,k] * Q[:,i] #Actualizamos v_k restándole la proyección <q_i,v_k>q_i\n",
    "    return Q,R"
   ]
  },
  {
   "cell_type": "code",
   "execution_count": 41,
   "id": "87f36832-7126-4247-9d45-1805aa19f68f",
   "metadata": {},
   "outputs": [],
   "source": [
    "def bottom_half(A):\n",
    "    \"\"\"\n",
    "    Almacena las componentes debajo de la diagonal superior de A\n",
    "    \"\"\"\n",
    "    n = A.shape[0]\n",
    "    L=[]\n",
    "    for i in range(n):\n",
    "        T = list(A[i,:])\n",
    "        for k in range(i):   \n",
    "            L.append(T[k])\n",
    "    return L"
   ]
  },
  {
   "cell_type": "code",
   "execution_count": 99,
   "id": "d182fc0f-764d-4f7a-835f-4cf84ceaad0c",
   "metadata": {},
   "outputs": [],
   "source": [
    "def QR_algor(A,max_iteraciones=10000,tol=10e-8):\n",
    "    \"\"\"\n",
    "    Entrada: A matriz de numpy que debería ser simple e invertible, con autovalores distintos en módulo\n",
    "             max_iteraciones: tope de recursion. si se alcanza se retorna error\n",
    "             tol: tolerancia, que tan cerca de ser triangular superior es la matriz A^(n) en el paso n\n",
    "    Salida: B matriz (casi) triangular superior similar a A, con sus autovalores ordenados por su módulo en la diagonal, lista con los autovalores, iteraciones necesarias\n",
    "    \"\"\"\n",
    "    iteracion = 0\n",
    "    n=A.shape[0]\n",
    "    while iteracion < max_iteraciones:\n",
    "        iteracion += 1\n",
    "        Q,R = QR_factor(A) #Calculamos la ddescomposición A_k = Q'_k R'_k\n",
    "        A = R @ Q  #Y hacemos A_(k+1) = R'_k Q'_k. Sabemos que sto es equivalente a Q_k^T A Q_k obtenidas por iteración simultánea, y converge a una matriz triangular superior\n",
    "        L = [abs(l) for l in bottom_half(A)] #Para chequear si estamos suficientemente cerca, tomamos los valores absolutos de la mitad triangular inferior de A...\n",
    "        if max(L) < tol: #Y aceptamos si todos son menores que la tolerancia\n",
    "            Autovalores = [A[i][i] for i in range(n)] #Almacenamos los autovalores aqui\n",
    "            return A,Autovalores,iteracion\n",
    "    print(A)\n",
    "    print(Q)\n",
    "    print(Q.transpose() @ Q)\n",
    "    return \"Iteraciones máximas alcanzadas\" #Error si no converge suficientemente rápido"
   ]
  },
  {
   "cell_type": "code",
   "execution_count": 100,
   "id": "22644337-8cf2-4941-a96f-20c2a290dce3",
   "metadata": {},
   "outputs": [],
   "source": [
    "A = np.array([[2, 1], \n",
    "             [3, 4]])\n",
    "\n",
    "B = np.array([[3, 2],\n",
    "             [3, 4]])  \n",
    "\n",
    "C = np.array([[2, 3],\n",
    "             [1, 4]])\n",
    "\n",
    "D = np.array([[1, 1, 2],\n",
    "             [2, 1, 1], \n",
    "             [1, 1, 3]])\n",
    "\n",
    "E = np.array([[1, 1, 2],\n",
    "             [2, 1, 3],\n",
    "             [1, 1, 1]])\n",
    "\n",
    "F = np.array([[2, 1, 2],\n",
    "             [1, 1, 3],\n",
    "             [1, 1, 1]])\n",
    "\n",
    "G = np.array([[1, 1, 1, 2], \n",
    "             [2, 1, 1, 1],\n",
    "             [3, 2, 1, 2],\n",
    "             [2, 1, 1, 4]])\n",
    "\n",
    "H = np.array([[1, 2, 1, 2],\n",
    "             [2, 1, 1, 1], \n",
    "             [3, 2, 1, 2],\n",
    "             [2, 1, 1, 4]])"
   ]
  },
  {
   "cell_type": "markdown",
   "id": "052a878b-8636-4624-b8dc-4149cad46926",
   "metadata": {},
   "source": [
    "Hagamos primero un ejemplo guiado sobre la matriz $A = \\begin{bmatrix} 2 & 1 \\\\ 3 & 4\\end{bmatrix}$, haciendo los primeros 3 pasos:\n",
    "\n",
    "Primero imprimimos $A_0 = A$, después $Q_0$ y $R_0$, y después $A_1 = R_0 Q_0$, y seguimos. Obtenemos lo siguiente:"
   ]
  },
  {
   "cell_type": "code",
   "execution_count": 101,
   "id": "4563d779-2496-423a-85ae-5671f21d7cae",
   "metadata": {},
   "outputs": [
    {
     "name": "stdout",
     "output_type": "stream",
     "text": [
      "[[2 1]\n",
      " [3 4]]\n",
      "[[ 0.5547002  -0.83205029]\n",
      " [ 0.83205029  0.5547002 ]]\n",
      "[[3.60555128 3.88290137]\n",
      " [0.         1.38675049]]\n",
      "[[ 5.23076923 -0.84615385]\n",
      " [ 1.15384615  0.76923077]]\n",
      "[[ 0.97652377 -0.21540966]\n",
      " [ 0.21540966  0.97652377]]\n",
      "[[ 5.35652011 -0.66058961]\n",
      " [ 0.          0.93344184]]\n",
      "[[ 5.08847185 -1.79892761]\n",
      " [ 0.20107239  0.91152815]]\n",
      "[[ 0.99922018 -0.03948446]\n",
      " [ 0.03948446  0.99922018]]\n",
      "[[ 5.09244302 -1.76153358]\n",
      " [ 0.          0.98184702]]\n",
      "[[ 5.01891864 -1.9612323 ]\n",
      " [ 0.0387677   0.98108136]]\n"
     ]
    }
   ],
   "source": [
    "print(A)\n",
    "A1 = A\n",
    "for i in range(3):\n",
    "    Q,R = QR_factor(A1)\n",
    "    print(Q)\n",
    "    print(R)\n",
    "    A1=R@Q\n",
    "    print(A1)"
   ]
  },
  {
   "cell_type": "markdown",
   "id": "2a4182af-bef2-4ee3-b629-7c5391bc2336",
   "metadata": {},
   "source": [
    "### Paso 1:\n",
    "$A_0 = A = \\begin{bmatrix}\n",
    "2 & 1 \\\\\n",
    "3 & 4\n",
    "\\end{bmatrix} = Q_1\\, R_1 = \\begin{bmatrix}\n",
    "0.5547002 & -0.83205029 \\\\\n",
    "0.83205029 & 0.5547002\n",
    "\\end{bmatrix} \\begin{bmatrix}\n",
    "3.60555128 & 3.88290137 \\\\\n",
    "0 & 1.38675049\n",
    "\\end{bmatrix}$\n",
    "### Paso 2:\n",
    "$A_1 = R_0 \\, Q_0 = \\begin{bmatrix}\n",
    "5.23076923 & -0.84615385 \\\\\n",
    "1.15384615 & 0.76923077\n",
    "\\end{bmatrix} = Q_2 \\, R_2 = \\begin{bmatrix}\n",
    "0.97652377 & -0.21540966 \\\\\n",
    "0.21540966 & 0.97652377\n",
    "\\end{bmatrix}\\begin{bmatrix}\n",
    "5.35652011 & -0.66058961 \\\\\n",
    "0 & 0.93344184\n",
    "\\end{bmatrix}$\n",
    "### Paso 3:\n",
    "$A_2 = R_1 \\, Q_1 = \\begin{bmatrix}\n",
    "5.08847185 & -1.79892761 \\\\\n",
    "0.20107239 & 0.91152815\n",
    "\\end{bmatrix} = Q_2 \\, R_2 =\\begin{bmatrix}\n",
    "0.99922018 & -0.03948446 \\\\\n",
    "0.03948446 & 0.99922018\n",
    "\\end{bmatrix} \\begin{bmatrix}\n",
    "5.09244302 & -1.76153358 \\\\\n",
    "0 & 0.98184702\n",
    "\\end{bmatrix}$\n",
    "### Paso final:\n",
    "Después de todo esto, obtenemos la matriz $A_3 = \\begin{bmatrix}\n",
    "5.01891864 & -1.9612323 \\\\\n",
    "0.0387677 & 0.98108136\n",
    "\\end{bmatrix} $\n",
    "En cada uno de los pasos, podemos apreciar como disminuye la componente inferior izquierda de la matriz, el el paso 1 disminuye un 38.4%, después un 17.4%, y por último un 19.3% aproximadamente. Si corremos el código para hallar los valores propios, obtenemos lo siguiente:"
   ]
  },
  {
   "cell_type": "code",
   "execution_count": 102,
   "id": "d774bc58-286b-4751-9c7a-646a9a3d9335",
   "metadata": {},
   "outputs": [
    {
     "name": "stdout",
     "output_type": "stream",
     "text": [
      "Matriz (casi) diagonal similar a A:\n",
      "[[5.00003 -1.99994]\n",
      " [0.00006 0.99997]]\n",
      "Autovalores de A:[5.000030719292191, 0.9999692807078088], en 7 pasos\n"
     ]
    }
   ],
   "source": [
    "AA,Diag,i = QR_algor(A,tol=1e-4)\n",
    "with np.printoptions(precision=6, suppress=True, formatter={'float': '{:0.5f}'.format}, linewidth=100):\n",
    "    print(\"Matriz (casi) diagonal similar a A:\")\n",
    "    print(AA)\n",
    "print(f\"Autovalores de A:{Diag}, en {i} pasos\")"
   ]
  },
  {
   "cell_type": "code",
   "execution_count": 103,
   "id": "182cb23f-48e4-4ad1-9fe1-bd2e5ab16e52",
   "metadata": {},
   "outputs": [
    {
     "data": {
      "text/plain": [
       "(array([[ 6.00000000e+00,  9.99999857e-01,  1.58113892e+00,\n",
       "          1.26491106e+00],\n",
       "        [ 2.48486930e-12,  3.00000014e+00, -1.58113874e+00,\n",
       "         -6.32455803e-01],\n",
       "        [ 1.25511323e-19,  9.03867370e-08,  1.99999986e+00,\n",
       "          2.99999994e+00],\n",
       "        [ 4.08151698e-34,  5.02619715e-21, -8.65008504e-14,\n",
       "          1.00000000e+00]]),\n",
       " [5.999999999999165, 3.000000142914779, 1.9999998570863093, 0.99999999999974],\n",
       " 43)"
      ]
     },
     "execution_count": 103,
     "metadata": {},
     "output_type": "execute_result"
    }
   ],
   "source": [
    "test = np.array([[1,0,0,0],[3,2,0,0],[1,1,6,0],[1,2,1,3]])\n",
    "QR_algor(test)"
   ]
  },
  {
   "cell_type": "code",
   "execution_count": null,
   "id": "c1a98f34-2065-4d66-a521-df9e2f169aaa",
   "metadata": {},
   "outputs": [],
   "source": []
  },
  {
   "cell_type": "code",
   "execution_count": null,
   "id": "cff24bdf-2ee1-4dd2-80b2-2b4909b2c855",
   "metadata": {},
   "outputs": [],
   "source": []
  },
  {
   "cell_type": "code",
   "execution_count": null,
   "id": "791a53fa-67f0-4e87-b05f-983d4395cbcc",
   "metadata": {},
   "outputs": [],
   "source": []
  },
  {
   "cell_type": "code",
   "execution_count": null,
   "id": "45a703f6-9c37-4bf2-b60e-16c33db2cb3a",
   "metadata": {},
   "outputs": [],
   "source": []
  },
  {
   "cell_type": "code",
   "execution_count": null,
   "id": "0cfc574b-3876-4054-85b3-a06728e492b8",
   "metadata": {},
   "outputs": [],
   "source": []
  },
  {
   "cell_type": "code",
   "execution_count": null,
   "id": "b1456e41-6ddc-421c-a8e8-7741cd7e75a5",
   "metadata": {},
   "outputs": [],
   "source": []
  },
  {
   "cell_type": "code",
   "execution_count": null,
   "id": "c200f8b4-cfd2-42c8-bfa5-8ff6cdf5838e",
   "metadata": {},
   "outputs": [],
   "source": []
  },
  {
   "cell_type": "code",
   "execution_count": null,
   "id": "c20bcd89-3701-4293-aff0-e96596e71253",
   "metadata": {},
   "outputs": [],
   "source": []
  },
  {
   "cell_type": "code",
   "execution_count": null,
   "id": "d80ba527-fc6e-4891-ab29-fe7233cf7b34",
   "metadata": {},
   "outputs": [],
   "source": []
  }
 ],
 "metadata": {
  "kernelspec": {
   "display_name": "Python 3 (ipykernel)",
   "language": "python",
   "name": "python3"
  },
  "language_info": {
   "codemirror_mode": {
    "name": "ipython",
    "version": 3
   },
   "file_extension": ".py",
   "mimetype": "text/x-python",
   "name": "python",
   "nbconvert_exporter": "python",
   "pygments_lexer": "ipython3",
   "version": "3.12.7"
  }
 },
 "nbformat": 4,
 "nbformat_minor": 5
}
