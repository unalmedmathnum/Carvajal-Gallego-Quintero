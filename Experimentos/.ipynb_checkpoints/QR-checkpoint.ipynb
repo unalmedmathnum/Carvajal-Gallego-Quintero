{
 "cells": [
  {
   "cell_type": "markdown",
   "id": "df6a6599-c3d7-4b22-ac98-7a31f6bafa6c",
   "metadata": {},
   "source": [
    "## Experimentos\n",
    "Copiamos los códigos de las funciones usadas en QR, e importamos las matrices propuestas para usar como ejemplos"
   ]
  },
  {
   "cell_type": "code",
   "execution_count": 8,
   "id": "22644337-8cf2-4941-a96f-20c2a290dce3",
   "metadata": {},
   "outputs": [],
   "source": [
    "import numpy as np\n",
    "import os\n",
    "\n",
    "A = np.array([[2, 1], \n",
    "             [3, 4]])\n",
    "\n",
    "B = np.array([[3, 2],\n",
    "             [3, 4]])  \n",
    "\n",
    "C = np.array([[2, 3],\n",
    "             [1, 4]])\n",
    "\n",
    "D = np.array([[1, 1, 2],\n",
    "             [2, 1, 1], \n",
    "             [1, 1, 3]])\n",
    "\n",
    "E = np.array([[1, 1, 2],\n",
    "             [2, 1, 3],\n",
    "             [1, 1, 1]])\n",
    "\n",
    "F = np.array([[2, 1, 2],\n",
    "             [1, 1, 3],\n",
    "             [1, 1, 1]])\n",
    "\n",
    "G = np.array([[1, 1, 1, 2], \n",
    "             [2, 1, 1, 1],\n",
    "             [3, 2, 1, 2],\n",
    "             [2, 1, 1, 4]])\n",
    "\n",
    "H = np.array([[1, 2, 1, 2],\n",
    "             [2, 1, 1, 1], \n",
    "             [3, 2, 1, 2],\n",
    "             [2, 1, 1, 4]])\n",
    "matrices_ejemplo = [A,B,C,D,E,F,G,H]\n",
    "nombres = ['A','B','C','D','E','F','G','H']"
   ]
  },
  {
   "cell_type": "code",
   "execution_count": 9,
   "id": "6dda30eb-a766-44d0-a8b1-1a3dd226ac0a",
   "metadata": {
    "collapsed": true,
    "jupyter": {
     "outputs_hidden": true
    },
    "scrolled": true
   },
   "outputs": [
    {
     "name": "stdout",
     "output_type": "stream",
     "text": [
      "[[2 1]\n",
      " [3 4]]\n",
      "[[ 0.5547002  -0.83205029]\n",
      " [ 0.83205029  0.5547002 ]]\n",
      "[[3.60555128 3.88290137]\n",
      " [0.         1.38675049]]\n",
      "[[ 5.23076923 -0.84615385]\n",
      " [ 1.15384615  0.76923077]]\n",
      "[[ 0.97652377 -0.21540966]\n",
      " [ 0.21540966  0.97652377]]\n",
      "[[ 5.35652011 -0.66058961]\n",
      " [ 0.          0.93344184]]\n",
      "[[ 5.08847185 -1.79892761]\n",
      " [ 0.20107239  0.91152815]]\n",
      "[[ 0.99922018 -0.03948446]\n",
      " [ 0.03948446  0.99922018]]\n",
      "[[ 5.09244302 -1.76153358]\n",
      " [ 0.          0.98184702]]\n",
      "[[ 5.01891864 -1.9612323 ]\n",
      " [ 0.0387677   0.98108136]]\n",
      "Matriz (casi) diagonal similar a A:\n",
      "[[5.000001 -1.999998]\n",
      " [0.000002 0.999999]]\n",
      "Autovalores de A:[5.000001228798867, 0.9999987712011326], en 9 pasos\n",
      "Matriz (casi) diagonal similar a F:\n",
      "[[4.124885 1.839028 1.035010]\n",
      " [-0.000000 -0.761562 -0.739402]\n",
      " [0.000000 0.000009 0.636677]]\n",
      "Autovalores de F:[4.124885419764574, -0.7615619253279566, 0.6366765055633824], en 73 pasos\n"
     ]
    }
   ],
   "source": [
    "os.chdir(\"..\")\n",
    "%run metodo_descomposicion_qr.ipynb"
   ]
  },
  {
   "cell_type": "markdown",
   "id": "e92632af-092e-4658-9bc8-ed2e37585dab",
   "metadata": {},
   "source": [
    "Corremos el algoritmo en las matrices de ejemplo dadas"
   ]
  },
  {
   "cell_type": "code",
   "execution_count": 11,
   "id": "a2a18b62-e728-4df8-a1bd-8c0f17f6a216",
   "metadata": {},
   "outputs": [
    {
     "name": "stdout",
     "output_type": "stream",
     "text": [
      "Matriz (casi) diagonal similar a A:\n",
      "[[5.000001 -1.999998]\n",
      " [0.000002 0.999999]]\n",
      "Autovalores de A:[5.000001228798867, 0.9999987712011326], en 9 pasos\n",
      "Matriz (casi) diagonal similar a B:\n",
      "[[6.000001 -0.999997]\n",
      " [0.000003 0.999999]]\n",
      "Autovalores de B:[6.0000006869679465, 0.9999993130320568], en 8 pasos\n",
      "Matriz (casi) diagonal similar a C:\n",
      "[[4.999998 2.000004]\n",
      " [0.000004 1.000002]]\n",
      "Autovalores de C:[4.999997951996856, 1.0000020480031455], en 9 pasos\n",
      "Matriz (casi) diagonal similar a D:\n",
      "[[4.507019 0.749926 0.196802]\n",
      " [0.000000 0.778117 1.182749]\n",
      " [0.000000 0.000006 -0.285135]]\n",
      "Autovalores de D:[4.5070186438981645, 0.7781167256742583, -0.285135369572424], en 13 pasos\n",
      "Matriz (casi) diagonal similar a E:\n",
      "[[4.048917 2.394759 0.498778]\n",
      " [0.000000 -0.692024 -0.127854]\n",
      " [0.000000 0.000006 -0.356894]]\n",
      "Autovalores de E:[4.048917339522198, -0.692023659831876, -0.35689367969032243], en 17 pasos\n",
      "Matriz (casi) diagonal similar a F:\n",
      "[[4.124885 1.839028 1.035010]\n",
      " [-0.000000 -0.761562 -0.739402]\n",
      " [0.000000 0.000009 0.636677]]\n",
      "Autovalores de F:[4.124885419764574, -0.7615619253279566, 0.6366765055633824], en 73 pasos\n",
      "Matriz (casi) diagonal similar a G:\n",
      "[[6.634534 -1.179094 -1.834582 0.943001]\n",
      " [-0.000000 1.508558 -1.157359 0.098258]\n",
      " [0.000000 -0.000010 -0.735638 0.075374]\n",
      " [0.000000 -0.000000 -0.000006 -0.407455]]\n",
      "Autovalores de G:[6.634534463630889, 1.5085584091586306, -0.7356379587150321, -0.40745491407448553], en 18 pasos\n",
      "Matriz (casi) diagonal similar a H:\n",
      "[[6.827262 -0.794690 1.534731 -1.482844]\n",
      " [-0.000000 1.728118 0.648952 -0.361928]\n",
      " [0.000000 -0.000009 -1.087937 -0.511955]\n",
      " [0.000000 -0.000000 -0.000000 -0.467443]]\n",
      "Autovalores de H:[6.827262250104042, 1.7281179906705733, -1.0879370060385931, -0.46744323473602284], en 31 pasos\n"
     ]
    }
   ],
   "source": [
    "for j in range(len(matrices_ejemplo)):\n",
    "    AA,Autovalores,i = QR_algor(matrices_ejemplo[j],tol=1e-5)\n",
    "    with np.printoptions(precision=6, suppress=True, formatter={'float': '{:0.6f}'.format}, linewidth=100):\n",
    "        print(f\"Matriz (casi) diagonal similar a { nombres[j] }:\")\n",
    "        print(AA)\n",
    "        print(f\"Autovalores de {nombres[j]}:{Autovalores}, en {i} pasos\")"
   ]
  },
  {
   "cell_type": "markdown",
   "id": "2a610bcb-2132-4cdf-b2a9-f38963169002",
   "metadata": {},
   "source": []
  },
  {
   "cell_type": "markdown",
   "id": "4a4b0844-4d51-4a91-9f6e-7ffbaff45675",
   "metadata": {},
   "source": []
  }
 ],
 "metadata": {
  "kernelspec": {
   "display_name": "Python 3 (ipykernel)",
   "language": "python",
   "name": "python3"
  },
  "language_info": {
   "codemirror_mode": {
    "name": "ipython",
    "version": 3
   },
   "file_extension": ".py",
   "mimetype": "text/x-python",
   "name": "python",
   "nbconvert_exporter": "python",
   "pygments_lexer": "ipython3",
   "version": "3.12.7"
  }
 },
 "nbformat": 4,
 "nbformat_minor": 5
}
