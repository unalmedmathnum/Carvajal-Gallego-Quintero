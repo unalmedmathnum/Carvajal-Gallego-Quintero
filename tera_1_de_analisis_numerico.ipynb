{
  "nbformat": 4,
  "nbformat_minor": 0,
  "metadata": {
    "colab": {
      "provenance": []
    },
    "kernelspec": {
      "name": "python3",
      "display_name": "Python 3"
    },
    "language_info": {
      "name": "python"
    }
  },
  "cells": [
    {
      "cell_type": "code",
      "execution_count": 265,
      "metadata": {
        "id": "8KolsjBeFmOj"
      },
      "outputs": [],
      "source": [
        "import numpy as np"
      ]
    },
    {
      "cell_type": "markdown",
      "source": [],
      "metadata": {
        "id": "11N1AC9UGkA2"
      }
    },
    {
      "cell_type": "code",
      "source": [
        "A = np.array([[2,1,2], [1,1,3], [1,1,1]])\n",
        "A"
      ],
      "metadata": {
        "colab": {
          "base_uri": "https://localhost:8080/"
        },
        "id": "1r36PwJVF1bs",
        "outputId": "2cb60fd8-3c8b-4f5b-d2d4-7013aa7bfab1"
      },
      "execution_count": 266,
      "outputs": [
        {
          "output_type": "execute_result",
          "data": {
            "text/plain": [
              "array([[2, 1, 2],\n",
              "       [1, 1, 3],\n",
              "       [1, 1, 1]])"
            ]
          },
          "metadata": {},
          "execution_count": 266
        }
      ]
    },
    {
      "cell_type": "code",
      "source": [
        "np.poly(A)"
      ],
      "metadata": {
        "colab": {
          "base_uri": "https://localhost:8080/"
        },
        "id": "Izkt3H4gGZQv",
        "outputId": "621a3ac4-de48-4424-ae7b-c2ffc2f5c4d5"
      },
      "execution_count": 267,
      "outputs": [
        {
          "output_type": "execute_result",
          "data": {
            "text/plain": [
              "array([ 1., -4., -1.,  2.])"
            ]
          },
          "metadata": {},
          "execution_count": 267
        }
      ]
    },
    {
      "cell_type": "code",
      "source": [
        "B = 1 + max(np.abs(np.poly(A)/np.poly(A)[0]))\n",
        "B"
      ],
      "metadata": {
        "colab": {
          "base_uri": "https://localhost:8080/"
        },
        "id": "Nt76YUWoKooP",
        "outputId": "d1811401-b546-40cd-9808-b0349bd5b780"
      },
      "execution_count": 268,
      "outputs": [
        {
          "output_type": "execute_result",
          "data": {
            "text/plain": [
              "4.999999999999996"
            ]
          },
          "metadata": {},
          "execution_count": 268
        }
      ]
    },
    {
      "cell_type": "code",
      "source": [
        "def polichar_re(A, x, B):\n",
        "  return polichar(A, (x + B)/(2*B))\n"
      ],
      "metadata": {
        "id": "fXq98aaCNDab"
      },
      "execution_count": 269,
      "outputs": []
    },
    {
      "cell_type": "code",
      "source": [
        "def evaluar(pol, x):\n",
        "  pol = pol.copy()\n",
        "  n = len(pol) - 1\n",
        "  return sum([pol[i] * x ** (n-i) for i in range(n+1)])"
      ],
      "metadata": {
        "id": "csHVhAMykXdH"
      },
      "execution_count": 270,
      "outputs": []
    },
    {
      "cell_type": "code",
      "source": [
        "#criterio de strums#\n",
        "P = []\n",
        "n = A.shape[0]\n",
        "polinomio_original = np.poly(A)\n",
        "polinomio_polarizado = np.asarray([polinomio_original[i] * B ** (n - i) for i in range(n + 1)]) #cambio de variable#\n",
        "P.append(polinomio_polarizado)\n",
        "P.append(np.array([P[0][i] * (n-i) for i in range(0, n)]))\n",
        "\n",
        "for i in range(2, n + 1):\n",
        "  P.append(-np.polynomial.polynomial.polydiv(P[i-2], P[i-1])[1])\n",
        "\n",
        "P"
      ],
      "metadata": {
        "colab": {
          "base_uri": "https://localhost:8080/"
        },
        "id": "z2LzxQNWNloH",
        "outputId": "6a67811d-5b5c-496e-e351-5d4af69a0015"
      },
      "execution_count": 271,
      "outputs": [
        {
          "output_type": "execute_result",
          "data": {
            "text/plain": [
              "[array([ 125., -100.,   -5.,    2.]),\n",
              " array([ 375., -200.,   -5.]),\n",
              " array([ 6250., -3450.]),\n",
              " array([3.72820836])]"
            ]
          },
          "metadata": {},
          "execution_count": 271
        }
      ]
    },
    {
      "cell_type": "code",
      "source": [
        "for pol in P:\n",
        "  print(evaluar(pol, -1))"
      ],
      "metadata": {
        "colab": {
          "base_uri": "https://localhost:8080/"
        },
        "id": "rLTU57csrL7b",
        "outputId": "7aae768e-3dc2-4abd-975f-c290d8e9ec81"
      },
      "execution_count": 272,
      "outputs": [
        {
          "output_type": "stream",
          "name": "stdout",
          "text": [
            "-217.99999999999935\n",
            "569.9999999999984\n",
            "-9699.999999999867\n",
            "3.7282083595883364\n"
          ]
        }
      ]
    },
    {
      "cell_type": "code",
      "source": [
        "#evaluar la lista P en 0#\n",
        "for pol in P:\n",
        "    pol[-1]"
      ],
      "metadata": {
        "id": "IOJKc8vgas57"
      },
      "execution_count": 273,
      "outputs": []
    },
    {
      "cell_type": "code",
      "source": [
        "#evaluar la lista P en 1#\n",
        "for pol in P:\n",
        "    np.sum(pol)"
      ],
      "metadata": {
        "id": "TJh8WDTRcFtA"
      },
      "execution_count": 274,
      "outputs": []
    },
    {
      "cell_type": "code",
      "source": [
        "#conteo de cambios de signo en la lsita p(-1)#\n",
        "conteo_0 = 0\n",
        "for i in range(1, n+1):\n",
        "  if evaluar(P[i-1], -1) * evaluar(P[i],-1) < 0:\n",
        "    conteo_0 += 1\n",
        "print(conteo_0)"
      ],
      "metadata": {
        "colab": {
          "base_uri": "https://localhost:8080/"
        },
        "id": "WrOxht8XeojH",
        "outputId": "e475d660-57d2-4358-8bce-8ae5cc8a79aa"
      },
      "execution_count": 275,
      "outputs": [
        {
          "output_type": "stream",
          "name": "stdout",
          "text": [
            "3\n"
          ]
        }
      ]
    },
    {
      "cell_type": "code",
      "source": [
        "#conteo de cambios de signo para la lista p(1)#\n",
        "conteo_1=0\n",
        "for i in range(1,n+1):\n",
        "  if evaluar(P[i-1], 1)*evaluar(P[i],1) < 0:\n",
        "    conteo_1 += 1\n",
        "print(conteo_1)"
      ],
      "metadata": {
        "colab": {
          "base_uri": "https://localhost:8080/"
        },
        "id": "0TLEq8jUfqOn",
        "outputId": "c4923c9f-0c96-440f-b08e-a96258d432cf"
      },
      "execution_count": 276,
      "outputs": [
        {
          "output_type": "stream",
          "name": "stdout",
          "text": [
            "0\n"
          ]
        }
      ]
    },
    {
      "cell_type": "code",
      "source": [
        "N=conteo_0-conteo_1 #numero de raices\n",
        "print(N)"
      ],
      "metadata": {
        "colab": {
          "base_uri": "https://localhost:8080/"
        },
        "id": "LOnnuP8DuYxz",
        "outputId": "131dc20c-05c4-4aa4-fed9-12b2f2a42d78"
      },
      "execution_count": 277,
      "outputs": [
        {
          "output_type": "stream",
          "name": "stdout",
          "text": [
            "3\n"
          ]
        }
      ]
    },
    {
      "cell_type": "code",
      "source": [
        "def conteo_raices(intervalo):\n",
        "  (a, b) = intervalo\n",
        "  conteo_a = 0 #conteo de los cambios de signos en cada uno de los intervalos dados por la particion en la lista dada por el teorema de strums evaluada en los limites inferiores de cada subintervalo dada por la particiones\n",
        "  for i in range(1, n+1):\n",
        "    if evaluar(P[i-1], a) * evaluar(P[i],a) < 0:\n",
        "      conteo_a += 1\n",
        "\n",
        "  conteo_b = 0 #conteo de los cambios de signos en cada uno de los intervalos dados por la particion\n",
        "  for i in range(1,n+1):\n",
        "    if evaluar(P[i-1], b)*evaluar(P[i],b) < 0:\n",
        "      conteo_b += 1\n",
        "\n",
        "  return conteo_a - conteo_b #numero de raices en los intervalos encontrados en la partición#"
      ],
      "metadata": {
        "id": "Hra-zU1qw598"
      },
      "execution_count": 278,
      "outputs": []
    },
    {
      "cell_type": "code",
      "source": [
        "max_raices = conteo_raices((-1, 1))\n",
        "n1 = 0\n",
        "while max_raices > 1:\n",
        "  k = 2 ** n1\n",
        "  intervalos = [(-1 + j / k, - 1 + (j + 1) / k) for j in range(2 * k)] #particion del intervalo [-1,1]#\n",
        "\n",
        "  max_raices = 0\n",
        "  for intervalo in intervalos:\n",
        "\n",
        "    N = conteo_raices(intervalo) #conteo de raices en cada subintervalo definido por la partción\n",
        "\n",
        "    if N > max_raices:\n",
        "      max_raices = N #localización de la raices en las particiones del intervalo[-1,1]\n",
        "  n1 += 1\n"
      ],
      "metadata": {
        "id": "GXvID2RBu2ac"
      },
      "execution_count": 279,
      "outputs": []
    },
    {
      "cell_type": "code",
      "source": [
        "#aislamiento de raices#\n",
        "verdaderos_intervalos = []\n",
        "for intervalo in intervalos:\n",
        "  if conteo_raices(intervalo) > 0:\n",
        "    verdaderos_intervalos.append(intervalo)"
      ],
      "metadata": {
        "id": "W9c8_Lfe2aFN"
      },
      "execution_count": 280,
      "outputs": []
    },
    {
      "cell_type": "code",
      "source": [
        "verdaderos_intervalos"
      ],
      "metadata": {
        "colab": {
          "base_uri": "https://localhost:8080/"
        },
        "id": "Qc_sLdop5Q2h",
        "outputId": "517abe69-770d-4b48-b283-5da7ea90cfba"
      },
      "execution_count": 281,
      "outputs": [
        {
          "output_type": "execute_result",
          "data": {
            "text/plain": [
              "[(-0.5, 0.0), (0.0, 0.5), (0.5, 1.0)]"
            ]
          },
          "metadata": {},
          "execution_count": 281
        }
      ]
    },
    {
      "cell_type": "code",
      "source": [
        "#reprametrización de los intervalos donde se encuentaran las raices en el intervalos [-B,B]\n",
        "for intervalo in verdaderos_intervalos:\n",
        "  print((intervalo[0] * B, intervalo[1] * B))"
      ],
      "metadata": {
        "colab": {
          "base_uri": "https://localhost:8080/"
        },
        "id": "C1OiIuZe8qcn",
        "outputId": "d93f05b9-67a5-4263-d046-97ecf22dec2b"
      },
      "execution_count": 282,
      "outputs": [
        {
          "output_type": "stream",
          "name": "stdout",
          "text": [
            "(-2.499999999999998, 0.0)\n",
            "(0.0, 2.499999999999998)\n",
            "(2.499999999999998, 4.999999999999996)\n"
          ]
        }
      ]
    },
    {
      "cell_type": "code",
      "source": [
        "def biseccion(intervalo, tol): #Función, extremos, y tolerancia\n",
        "  (a, b) = intervalo\n",
        "  p = a + ( b - a ) / 2 #Punto medio del intervalo\n",
        "  if evaluar(P[0], p) == 0 or b-a < tol:\n",
        "    return p\n",
        "  elif evaluar(P[0], a) * evaluar(P[0], p) <0:\n",
        "    return biseccion((a, p),tol)\n",
        "  elif evaluar(P[0], p) * evaluar(P[0], b) <0:\n",
        "    return biseccion((p, b),tol)"
      ],
      "metadata": {
        "id": "lHanXxPv6KTd"
      },
      "execution_count": 283,
      "outputs": []
    },
    {
      "cell_type": "code",
      "source": [
        "#encontrar las raices del polinomio parametrizado usando el método de bisección#\n",
        "raices = []\n",
        "for intervalo in verdaderos_intervalos:\n",
        "  raices.append(biseccion(intervalo, 10**(-10)))"
      ],
      "metadata": {
        "id": "JTaCwLpR8B-t"
      },
      "execution_count": 284,
      "outputs": []
    },
    {
      "cell_type": "code",
      "source": [
        "valores_propios = [B * raiz for raiz in raices]#reparametrización de las raíces ubicadas en [-B,B]\n",
        "valores_propios"
      ],
      "metadata": {
        "colab": {
          "base_uri": "https://localhost:8080/"
        },
        "id": "xDEd9KTp8IW5",
        "outputId": "cf2d949a-8911-4ad8-b126-5a416b00315d"
      },
      "execution_count": 285,
      "outputs": [
        {
          "output_type": "execute_result",
          "data": {
            "text/plain": [
              "[-0.7615571819769678, 0.6366717621858692, 4.124885419878407]"
            ]
          },
          "metadata": {},
          "execution_count": 285
        }
      ]
    },
    {
      "cell_type": "code",
      "source": [
        "#calculo de los vectores propios por gauss seidel#\n",
        "import numpy as np\n",
        "\n",
        "def gradiente_conjugado(A, b, x0=None, tol=1e-10, max_iter=1000):\n",
        "\n",
        "    n = len(b)\n",
        "    x = np.zeros_like(b) if x0 is None else x0.copy()  # Vector inicial (usualmente 0)\n",
        "    r = b - np.dot(A, x)  # Resíduo inicial\n",
        "    p = r.copy()  # Dirección de búsqueda inicial\n",
        "\n",
        "    for k in range(max_iter):\n",
        "        # Producto escalar de p con r using .flatten() to ensure 1D arrays for dot product\n",
        "        # This ensures the dot product calculates a scalar as intended.\n",
        "        alpha = np.dot(r.flatten(), r.flatten()) / np.dot(p.flatten(), np.dot(A, p).flatten())\n",
        "\n",
        "        # Actualización de la solución\n",
        "        x = x + alpha * p\n",
        "\n",
        "        # Nuevo residuo\n",
        "        r_new = r - alpha * np.dot(A, p)\n",
        "\n",
        "        # Comprobar la convergencia\n",
        "        if np.linalg.norm(r_new) < tol:\n",
        "            print(f\"Convergió después de {k+1} iteraciones.\")\n",
        "            return x\n",
        "\n",
        "        # Calculamos beta using .flatten() to ensure 1D arrays for dot product\n",
        "        beta = np.dot(r_new.flatten(), r_new.flatten()) / np.dot(r.flatten(), r.flatten())\n",
        "\n",
        "        # Actualizamos la dirección\n",
        "        p = r_new + beta * p\n",
        "\n",
        "        r = r_new  # Actualizamos el residuo\n",
        "\n",
        "    print(\"Alcanzado el número máximo de iteraciones.\")\n",
        "    return x"
      ],
      "metadata": {
        "id": "Hzxe6uW1_uk_"
      },
      "execution_count": 288,
      "outputs": []
    },
    {
      "cell_type": "code",
      "source": [
        "#solucion del sistema de ecuaciones para cada valor propio\n",
        "for valor in valores_propios:\n",
        "  #sistema de ecuaciones para cada valor propio\n",
        "  A_hat = A - valor * np.eye(n) #matriz (A-\\landa I)\n",
        "  b = np.zeros((n,1)) #vector 0 de dimension nx1\n",
        "  x0 = np.ones((n,1))#valor de inicio para el método gauss seidel en este caso la identidad\n",
        "  x = gradiente_conjugado(A_hat,b,x0, 1e-4,100)#solución del sistema de ecuaciones (A-\\landa I)x=0\n",
        "  print(f\"El autovector asociado a {valor} es {x}\")"
      ],
      "metadata": {
        "colab": {
          "base_uri": "https://localhost:8080/"
        },
        "id": "qH2URfK6DFF7",
        "outputId": "553f9d2e-7ccc-4287-8fbc-917aaa074b4f"
      },
      "execution_count": 289,
      "outputs": [
        {
          "output_type": "stream",
          "name": "stdout",
          "text": [
            "Convergió después de 4 iteraciones.\n",
            "El autovector asociado a -0.7615571819769678 es [[-0.02657073]\n",
            " [-0.31929765]\n",
            " [ 0.19635209]]\n",
            "Convergió después de 9 iteraciones.\n",
            "El autovector asociado a 0.6366717621858692 es [[-0.21364274]\n",
            " [ 0.19646238]\n",
            " [ 0.04739824]]\n",
            "Convergió después de 12 iteraciones.\n",
            "El autovector asociado a 4.124885419878407 es [[1.24020542]\n",
            " [1.12289804]\n",
            " [0.75623114]]\n"
          ]
        }
      ]
    },
    {
      "cell_type": "code",
      "source": [],
      "metadata": {
        "id": "UJSn6kUkDXRD"
      },
      "execution_count": null,
      "outputs": []
    }
  ]
}