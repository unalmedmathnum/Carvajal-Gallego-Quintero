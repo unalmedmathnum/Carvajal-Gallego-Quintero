{
 "cells": [
  {
   "cell_type": "markdown",
   "metadata": {},
   "source": [
    "# Método Potencia"
   ]
  },
  {
   "cell_type": "markdown",
   "metadata": {},
   "source": [
    "## Código"
   ]
  },
  {
   "cell_type": "markdown",
   "metadata": {},
   "source": [
    "### importaciones"
   ]
  },
  {
   "cell_type": "code",
   "execution_count": 1,
   "metadata": {},
   "outputs": [],
   "source": [
    "import numpy as np  # libreria "
   ]
  },
  {
   "cell_type": "markdown",
   "metadata": {},
   "source": [
    "### Definición de funciones"
   ]
  },
  {
   "cell_type": "code",
   "execution_count": 2,
   "metadata": {},
   "outputs": [],
   "source": [
    "def norma(x) -> float:  #definicion de la funcion norma\n",
    "    M: float = 0\n",
    "    for x_i in x:\n",
    "        if abs(x_i) > M:\n",
    "            M = abs(x_i)\n",
    "    return M\n",
    "\n",
    "\n",
    "def encontrar_p(n:int, x, norma: float) -> float:\n",
    "    p: int = 0\n",
    "    for i in range(n):\n",
    "        if norma == abs(x[i]):\n",
    "            p = i\n",
    "            break\n",
    "    return p"
   ]
  },
  {
   "cell_type": "markdown",
   "metadata": {},
   "source": [
    "### Definición del Método\n"
   ]
  },
  {
   "cell_type": "code",
   "execution_count": 3,
   "metadata": {},
   "outputs": [],
   "source": [
    "def metodo_potencia(N:int,n:int,A,x, tol=float):\n",
    "    norm: float = norma(x)\n",
    "    p=encontrar_p(n,x,norm)\n",
    "    x_p = x[p]\n",
    "    err : float\n",
    "\n",
    "    # paso todo a numpy\n",
    "    A = np.array(A)\n",
    "    x = np.array(x)\n",
    "\n",
    "    x = x/x_p\n",
    "\n",
    "    # paso 4:\n",
    "\n",
    "    for _ in range(N):\n",
    "\n",
    "        y = A @ x\n",
    "\n",
    "        nueva_p = encontrar_p(n,y,norm)\n",
    "        y_p = y[nueva_p]\n",
    "        mu = y_p\n",
    "\n",
    "        if y_p == 0:\n",
    "            return f\"Autovector: {x} \\nA tiene el autovalor 0.\"\n",
    "        else:\n",
    "            err = norma(x-(y/y_p))\n",
    "            x = y/y_p\n",
    "            if err < tol:\n",
    "                return f\"El procedimiento fue exitoso: \\nEl autovalor es: {float(mu)}, y el autovector es {x}.\"\n",
    "\n",
    "    return f\"Número máximo de iteraciones excedido. \\nEl procedimiento no fue exitoso.\""
   ]
  },
  {
   "cell_type": "markdown",
   "metadata": {},
   "source": [
    "## Casos de prueba"
   ]
  },
  {
   "cell_type": "markdown",
   "metadata": {},
   "source": [
    "### Caso del libro"
   ]
  },
  {
   "cell_type": "code",
   "execution_count": 4,
   "metadata": {},
   "outputs": [
    {
     "name": "stdout",
     "output_type": "stream",
     "text": [
      "El procedimiento fue exitoso: \n",
      "El autovalor es: 4.0, y el autovector es [ 1. -2.].\n"
     ]
    }
   ],
   "source": [
    "N: int = 500\n",
    "A = [[-2,-3],[6,7],]\n",
    "n: int = len(A)\n",
    "x = [1, 1]\n",
    "tol: float = 10**(-16)\n",
    "\n",
    "salida = metodo_potencia(N, n, A, x, tol)\n",
    "\n",
    "print(salida)"
   ]
  },
  {
   "cell_type": "markdown",
   "metadata": {},
   "source": [
    "### Prueba y comparacion\n"
   ]
  },
  {
   "cell_type": "markdown",
   "metadata": {},
   "source": [
    "### Caso 1 (Matriz A)"
   ]
  },
  {
   "cell_type": "code",
   "execution_count": 5,
   "metadata": {},
   "outputs": [
    {
     "name": "stdout",
     "output_type": "stream",
     "text": [
      "El procedimiento fue exitoso: \n",
      "El autovalor es: 5.0, y el autovector es [1. 3.].\n"
     ]
    }
   ],
   "source": [
    "N: int = 500\n",
    "A = [[2,1],[3,4]]\n",
    "n: int = len(A)\n",
    "x = [1, 1]\n",
    "tol: float = 10**(-16)\n",
    "\n",
    "salida = metodo_potencia(N, n, A, x, tol)\n",
    "\n",
    "print(salida)\n",
    "\n"
   ]
  },
  {
   "cell_type": "markdown",
   "metadata": {},
   "source": [
    "### Caso 2 (Matriz B)"
   ]
  },
  {
   "cell_type": "code",
   "execution_count": 6,
   "metadata": {},
   "outputs": [
    {
     "name": "stdout",
     "output_type": "stream",
     "text": [
      "El procedimiento fue exitoso: \n",
      "El autovalor es: 6.0, y el autovector es [1.  1.5].\n"
     ]
    }
   ],
   "source": [
    "N: int = 500\n",
    "A = [[3,2],[3,4]]\n",
    "n: int = len(A)\n",
    "x = [1, 1]\n",
    "tol: float = 10**(-16)\n",
    "\n",
    "salida = metodo_potencia(N, n, A, x, tol)\n",
    "\n",
    "print(salida)\n"
   ]
  },
  {
   "cell_type": "markdown",
   "metadata": {},
   "source": [
    "### Caso 3 (Matriz C)"
   ]
  },
  {
   "cell_type": "code",
   "execution_count": 7,
   "metadata": {},
   "outputs": [
    {
     "name": "stdout",
     "output_type": "stream",
     "text": [
      "El procedimiento fue exitoso: \n",
      "El autovalor es: 5.0, y el autovector es [1. 1.].\n"
     ]
    }
   ],
   "source": [
    "N: int = 500\n",
    "A = [[2,3],[1,4]]\n",
    "n: int = len(A)\n",
    "x = [1, 1]\n",
    "tol: float = 10**(-16)\n",
    "\n",
    "salida = metodo_potencia(N, n, A, x, tol)\n",
    "\n",
    "print(salida)\n"
   ]
  },
  {
   "cell_type": "markdown",
   "metadata": {},
   "source": [
    "### Caso 4 (Matriz D)"
   ]
  },
  {
   "cell_type": "code",
   "execution_count": 8,
   "metadata": {},
   "outputs": [
    {
     "name": "stdout",
     "output_type": "stream",
     "text": [
      "El procedimiento fue exitoso: \n",
      "El autovalor es: 4.507018644092977, y el autovector es [1.         0.93673368 1.28514248].\n"
     ]
    }
   ],
   "source": [
    "N: int = 500\n",
    "A = [[1,1,2],[2,1,1],[1,1,3]]\n",
    "n: int = len(A)\n",
    "x = [1, 1, 1]\n",
    "tol: float = 10**(-16)\n",
    "\n",
    "salida = metodo_potencia(N, n, A, x, tol)\n",
    "\n",
    "print(salida)\n"
   ]
  },
  {
   "cell_type": "markdown",
   "metadata": {},
   "source": [
    "### Caso 5  (Matriz E )"
   ]
  },
  {
   "cell_type": "code",
   "execution_count": 9,
   "metadata": {},
   "outputs": [
    {
     "name": "stdout",
     "output_type": "stream",
     "text": [
      "El procedimiento fue exitoso: \n",
      "El autovalor es: 4.0489145999198115, y el autovector es [1.         1.44504173 0.80193804].\n"
     ]
    }
   ],
   "source": [
    "N: int = 500\n",
    "A = [[1,1,2],[2,1,3],[1,1,1]]\n",
    "n: int = len(A)\n",
    "x = [1, 1, 1]\n",
    "tol: float = 10**(-5)\n",
    "\n",
    "salida = metodo_potencia(N, n, A, x, tol)\n",
    "\n",
    "print(salida)\n"
   ]
  },
  {
   "cell_type": "markdown",
   "metadata": {},
   "source": [
    "### Caso 6 (Matriz F)\n"
   ]
  },
  {
   "cell_type": "code",
   "execution_count": 10,
   "metadata": {},
   "outputs": [
    {
     "name": "stdout",
     "output_type": "stream",
     "text": [
      "El procedimiento fue exitoso: \n",
      "El autovalor es: 4.124885419764574, y el autovector es [1.         0.90539067 0.60974737].\n"
     ]
    }
   ],
   "source": [
    "N: int = 500\n",
    "A = [[2,1,2],[1,1,3],[1,1,1]]\n",
    "n: int = len(A)\n",
    "x = [1, 1, 1]\n",
    "tol: float = 10**(-16)\n",
    "\n",
    "salida = metodo_potencia(N, n, A, x, tol)\n",
    "\n",
    "print(salida)\n"
   ]
  },
  {
   "cell_type": "markdown",
   "metadata": {},
   "source": [
    "### Caso 7 (Matriz G)"
   ]
  },
  {
   "cell_type": "code",
   "execution_count": 11,
   "metadata": {},
   "outputs": [
    {
     "name": "stdout",
     "output_type": "stream",
     "text": [
      "El procedimiento fue exitoso: \n",
      "El autovalor es: 6.634534463633597, y el autovector es [1.         0.90243261 1.43747344 1.64731421].\n"
     ]
    }
   ],
   "source": [
    "N: int = 500\n",
    "A = [[1,1,1,2],[2,1,1,1],[3,2,1,2],[2,1,1,4]]\n",
    "n: int = len(A)\n",
    "x = [1, 1, 1,1]\n",
    "tol: float = 10**(-16)\n",
    "\n",
    "salida = metodo_potencia(N, n, A, x, tol)\n",
    "\n",
    "print(salida)\n"
   ]
  },
  {
   "cell_type": "markdown",
   "metadata": {},
   "source": [
    "### Caso 8 (Matriz H)"
   ]
  },
  {
   "cell_type": "code",
   "execution_count": 12,
   "metadata": {},
   "outputs": [
    {
     "name": "stdout",
     "output_type": "stream",
     "text": [
      "El procedimiento fue exitoso: \n",
      "El autovalor es: 6.8272622501040425, y el autovector es [1.         0.81439712 1.29294319 1.45276241].\n"
     ]
    }
   ],
   "source": [
    "N: int = 500\n",
    "A = [[1,2,1,2],[2,1,1,1],[3,2,1,2],[2,1,1,4]]\n",
    "n: int = len(A)\n",
    "x = [1, 1, 1,1]\n",
    "tol: float = 10**(-16)\n",
    "\n",
    "salida = metodo_potencia(N, n, A, x, tol)\n",
    "\n",
    "print(salida)\n"
   ]
  }
 ],
 "metadata": {
  "kernelspec": {
   "display_name": "base",
   "language": "python",
   "name": "python3"
  },
  "language_info": {
   "codemirror_mode": {
    "name": "ipython",
    "version": 3
   },
   "file_extension": ".py",
   "mimetype": "text/x-python",
   "name": "python",
   "nbconvert_exporter": "python",
   "pygments_lexer": "ipython3",
   "version": "3.11.10"
  }
 },
 "nbformat": 4,
 "nbformat_minor": 2
}
