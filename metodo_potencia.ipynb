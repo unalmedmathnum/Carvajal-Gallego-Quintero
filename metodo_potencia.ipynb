{
 "cells": [
  {
   "cell_type": "markdown",
   "metadata": {},
   "source": [
    "# Método Potencia"
   ]
  },
  {
   "cell_type": "markdown",
   "metadata": {},
   "source": [
    "## Código"
   ]
  },
  {
   "cell_type": "markdown",
   "metadata": {},
   "source": [
    "### importaciones"
   ]
  },
  {
   "cell_type": "code",
   "execution_count": 28,
   "metadata": {},
   "outputs": [],
   "source": [
    "import numpy as np  # libreria "
   ]
  },
  {
   "cell_type": "markdown",
   "metadata": {},
   "source": [
    "### Definición de funciones"
   ]
  },
  {
   "cell_type": "code",
   "execution_count": 1,
   "metadata": {},
   "outputs": [],
   "source": [
    "def norma(x) -> float:  #definicion de la funcion norma\n",
    "    \"\"\"Para sacar la norma a infinito de un vector\n",
    "\n",
    "    Args:\n",
    "        x (vector): Un vector en R\n",
    "\n",
    "    Returns:\n",
    "        float: norma del vector\n",
    "    \"\"\"\n",
    "    M: float = 0            #Inicializo el máximo\n",
    "    for x_i in x:           # Recorro las componentes\n",
    "        if abs(x_i) > M:    # Si encuentro alguna con mayor valor absoluto\n",
    "            M = abs(x_i)    # Reemplazo el anterior máximo\n",
    "    return M                # Retorno el máximo valor absoluto de entre las componentes\n",
    "\n",
    "\n",
    "def encontrar_p(n:int, x, norma: float) -> int:\n",
    "    \"\"\"\n",
    "    Para encontrar el valor p.\n",
    "    La componente p-ésima del vector x será la primera componente de mayor magnitud.\n",
    "\n",
    "    Args:\n",
    "        n (int): Dimensión del vector\n",
    "        x (vector): Un vector en R\n",
    "        norma (float): la norma del vector, previamente calculada\n",
    "\n",
    "    Returns:\n",
    "        int: El valor p\n",
    "    \"\"\"\n",
    "    p: int = 0                    # Inicializo p\n",
    "    for i in range(n):            #Recorro de 0 a n\n",
    "        if norma == abs(x[i]):    #Cuando encuentre la primera componente con el valor absoluto que busco\n",
    "            p = i                 #Actualizo el valor de p \n",
    "            break                 #Y me salgo del ciclo\n",
    "    return p                      #Retorno p"
   ]
  },
  {
   "cell_type": "markdown",
   "metadata": {},
   "source": [
    "### Definición del Método\n"
   ]
  },
  {
   "cell_type": "code",
   "execution_count": null,
   "metadata": {},
   "outputs": [],
   "source": [
    "def metodo_potencia(N:int,n:int,A,x, tol=float):  \n",
    "    \"\"\"\n",
    "    Implementación del método de la potencia para encontrar el mayor autovalor y el correspondiente autovector.\n",
    "\n",
    "    Args:\n",
    "        N (int): Número máximo de iteraciones\n",
    "        n (int): Dimensión del vector\n",
    "        A (array): Matriz de entrada n x n\n",
    "        x (vector): Un vector en R\n",
    "        tol (float): Tolerancia para el error\n",
    "\n",
    "    Returns:\n",
    "        str: Resultado del procedimiento\n",
    "    \"\"\"\n",
    "        \n",
    "    norm: float = norma(x)       # Calculo la norma infinito del vector inicial\n",
    "    p=encontrar_p(n,x,norm)      # Encuentro p para el vector x\n",
    "    x_p = x[p]                   # Obtenemos el valor de la componente p-ésima\n",
    "    err : float                  # Defino el error inicial\n",
    "\n",
    "    # Paso todo a estructuras de numpy para facilitar cálculos\n",
    "    A = np.array(A)                   # Convierto la matriz A a numpy array \n",
    "    x = np.array(x)                   # Convierto el vector x a numpy array\n",
    "\n",
    "    x = x/x_p                         # Normalizamos el vector inicial dividiendo por su componente p-ésima\n",
    "\n",
    "     # Paso 4 en el seudocódigo: Inicio del ciclo iterativo\n",
    "\n",
    "    for _ in range(N):           # Itero N veces   \n",
    "\n",
    "        y = A @ x               # Multiplico la matriz A por el vector x y el resultado lo llamo y\n",
    "\n",
    "        nueva_p = encontrar_p(n,y,norm)    # Encuentramos p para el vector y\n",
    "        y_p = y[nueva_p]                   # Obtengo el valor correspondiente a la componente p-ésima de y\n",
    "        mu = y_p                           # Actualizo la estimación del autovalor\n",
    "\n",
    "        if y_p == 0:                        # Si la estimación del autovalor es 0\n",
    "            return f\"Autovector: {x} \\nA tiene el autovalor 0.\"    \n",
    "        else:                               \n",
    "            err = norma(x-(y/y_p))          # Calculo el error como la norma de la diferencia entre el nuevo vector y el de antes\n",
    "            x = y/y_p                        # Actualizo el vector x con el nuevo autovector y normalizo \n",
    "            if err < tol:                    # Si el error es menor a la tolerancia especificada (osea tol)\n",
    "                return f\"El procedimiento fue exitoso: \\nEl autovalor es: {float(mu)}, y el autovector es {x}.\"\n",
    "\n",
    "    # Si se alcanzó el número máximo de iteraciones sin cumplir la tolerancia\n",
    "    return f\"Número máximo de iteraciones excedido. \\nEl procedimiento no fue exitoso.\""
   ]
  },
  {
   "cell_type": "markdown",
   "metadata": {},
   "source": [
    "## Casos de prueba"
   ]
  },
  {
   "cell_type": "markdown",
   "metadata": {},
   "source": [
    "### Caso del libro"
   ]
  },
  {
   "cell_type": "code",
   "execution_count": 69,
   "metadata": {},
   "outputs": [
    {
     "ename": "NameError",
     "evalue": "name 'norma' is not defined",
     "output_type": "error",
     "traceback": [
      "\u001b[1;31m---------------------------------------------------------------------------\u001b[0m",
      "\u001b[1;31mNameError\u001b[0m                                 Traceback (most recent call last)",
      "Cell \u001b[1;32mIn[69], line 7\u001b[0m\n\u001b[0;32m      4\u001b[0m x \u001b[38;5;241m=\u001b[39m [\u001b[38;5;241m1\u001b[39m, \u001b[38;5;241m1\u001b[39m]                \u001b[38;5;66;03m# Declaro el vector x con el que empezaré\u001b[39;00m\n\u001b[0;32m      5\u001b[0m tol: \u001b[38;5;28mfloat\u001b[39m \u001b[38;5;241m=\u001b[39m \u001b[38;5;241m10\u001b[39m\u001b[38;5;241m*\u001b[39m\u001b[38;5;241m*\u001b[39m(\u001b[38;5;241m-\u001b[39m\u001b[38;5;241m16\u001b[39m)    \u001b[38;5;66;03m# Declaro la tolerancia del error\u001b[39;00m\n\u001b[1;32m----> 7\u001b[0m salida \u001b[38;5;241m=\u001b[39m metodo_potencia(N, n, A, x, tol)   \u001b[38;5;66;03m# Aplico el método potencia y capturo el resultado\u001b[39;00m\n\u001b[0;32m      9\u001b[0m \u001b[38;5;28mprint\u001b[39m(salida)\n",
      "Cell \u001b[1;32mIn[57], line 15\u001b[0m, in \u001b[0;36mmetodo_potencia\u001b[1;34m(N, n, A, x, tol)\u001b[0m\n\u001b[0;32m      1\u001b[0m \u001b[38;5;28;01mdef\u001b[39;00m \u001b[38;5;21mmetodo_potencia\u001b[39m(N:\u001b[38;5;28mint\u001b[39m,n:\u001b[38;5;28mint\u001b[39m,A,x, tol\u001b[38;5;241m=\u001b[39m\u001b[38;5;28mfloat\u001b[39m):  \n\u001b[0;32m      2\u001b[0m \u001b[38;5;250m    \u001b[39m\u001b[38;5;124;03m\"\"\"\u001b[39;00m\n\u001b[0;32m      3\u001b[0m \u001b[38;5;124;03m    Implementación del método de la potencia para encontrar el mayor autovalor y el correspondiente autovector.\u001b[39;00m\n\u001b[0;32m      4\u001b[0m \n\u001b[1;32m   (...)\u001b[0m\n\u001b[0;32m     12\u001b[0m \u001b[38;5;124;03m    Returns:\u001b[39;00m\n\u001b[0;32m     13\u001b[0m \u001b[38;5;124;03m        str: Resultado del procedimiento\"\"\"\u001b[39;00m\n\u001b[1;32m---> 15\u001b[0m     norm: \u001b[38;5;28mfloat\u001b[39m \u001b[38;5;241m=\u001b[39m norma(x)       \u001b[38;5;66;03m# Calculo la norma infinito del vector inicial\u001b[39;00m\n\u001b[0;32m     16\u001b[0m     p\u001b[38;5;241m=\u001b[39mencontrar_p(n,x,norm)      \u001b[38;5;66;03m# Encuentro p para el vector x\u001b[39;00m\n\u001b[0;32m     17\u001b[0m     x_p \u001b[38;5;241m=\u001b[39m x[p]                   \u001b[38;5;66;03m# Obtenemos el valor de la componente p-ésima\u001b[39;00m\n",
      "\u001b[1;31mNameError\u001b[0m: name 'norma' is not defined"
     ]
    }
   ],
   "source": [
    "N: int = 500              # Declaro número máximo de iteraciones\n",
    "A = [[-2,-3],[6,7],]      # Declaro la matriz\n",
    "n: int = len(A)           # Obtengo la \"longitud\" n de la matríz\n",
    "x = [1, 1]                # Declaro el vector x con el que empezaré\n",
    "tol: float = 10**(-16)    # Declaro la tolerancia del error\n",
    "\n",
    "salida = metodo_potencia(N, n, A, x, tol)   # Aplico el método potencia y capturo el resultado\n",
    "\n",
    "print(salida)                                # Lo muestro"
   ]
  },
  {
   "cell_type": "markdown",
   "metadata": {},
   "source": [
    "### Prueba y comparacion\n"
   ]
  },
  {
   "cell_type": "markdown",
   "metadata": {},
   "source": [
    "### Caso 1 (Matriz A)"
   ]
  },
  {
   "cell_type": "code",
   "execution_count": null,
   "metadata": {},
   "outputs": [
    {
     "name": "stdout",
     "output_type": "stream",
     "text": [
      "El procedimiento fue exitoso: \n",
      "El autovalor es: 5.0, y el autovector es [1. 3.].\n"
     ]
    }
   ],
   "source": [
    "N: int = 500\n",
    "A = [[2,1],[3,4]]\n",
    "n: int = len(A)\n",
    "x = [1, 1]\n",
    "tol: float = 10**(-16)\n",
    "\n",
    "salida = metodo_potencia(N, n, A, x, tol)\n",
    "\n",
    "print(salida)\n",
    "\n"
   ]
  },
  {
   "cell_type": "markdown",
   "metadata": {},
   "source": [
    "### Caso 2 (Matriz B)"
   ]
  },
  {
   "cell_type": "code",
   "execution_count": null,
   "metadata": {},
   "outputs": [
    {
     "name": "stdout",
     "output_type": "stream",
     "text": [
      "El procedimiento fue exitoso: \n",
      "El autovalor es: 6.0, y el autovector es [1.  1.5].\n"
     ]
    }
   ],
   "source": [
    "N: int = 500\n",
    "A = [[3,2],[3,4]]\n",
    "n: int = len(A)\n",
    "x = [1, 1]\n",
    "tol: float = 10**(-16)\n",
    "\n",
    "salida = metodo_potencia(N, n, A, x, tol)\n",
    "\n",
    "print(salida)\n"
   ]
  },
  {
   "cell_type": "markdown",
   "metadata": {},
   "source": [
    "### Caso 3 (Matriz C)"
   ]
  },
  {
   "cell_type": "code",
   "execution_count": null,
   "metadata": {},
   "outputs": [
    {
     "name": "stdout",
     "output_type": "stream",
     "text": [
      "El procedimiento fue exitoso: \n",
      "El autovalor es: 5.0, y el autovector es [1. 1.].\n"
     ]
    }
   ],
   "source": [
    "N: int = 500\n",
    "A = [[2,3],[1,4]]\n",
    "n: int = len(A)\n",
    "x = [1, 1]\n",
    "tol: float = 10**(-16)\n",
    "\n",
    "salida = metodo_potencia(N, n, A, x, tol)\n",
    "\n",
    "print(salida)\n"
   ]
  },
  {
   "cell_type": "markdown",
   "metadata": {},
   "source": [
    "### Caso 4 (Matriz D)"
   ]
  },
  {
   "cell_type": "code",
   "execution_count": null,
   "metadata": {},
   "outputs": [
    {
     "name": "stdout",
     "output_type": "stream",
     "text": [
      "El procedimiento fue exitoso: \n",
      "El autovalor es: 4.507018644092977, y el autovector es [1.         0.93673368 1.28514248].\n"
     ]
    }
   ],
   "source": [
    "N: int = 500\n",
    "A = [[1,1,2],[2,1,1],[1,1,3]]\n",
    "n: int = len(A)\n",
    "x = [1, 1, 1]\n",
    "tol: float = 10**(-16)\n",
    "\n",
    "salida = metodo_potencia(N, n, A, x, tol)\n",
    "\n",
    "print(salida)\n"
   ]
  },
  {
   "cell_type": "markdown",
   "metadata": {},
   "source": [
    "### Caso 5  (Matriz E )"
   ]
  },
  {
   "cell_type": "code",
   "execution_count": null,
   "metadata": {},
   "outputs": [
    {
     "name": "stdout",
     "output_type": "stream",
     "text": [
      "El procedimiento fue exitoso: \n",
      "El autovalor es: 4.0489145999198115, y el autovector es [1.         1.44504173 0.80193804].\n"
     ]
    }
   ],
   "source": [
    "N: int = 500\n",
    "A = [[1,1,2],[2,1,3],[1,1,1]]\n",
    "n: int = len(A)\n",
    "x = [1, 1, 1]\n",
    "tol: float = 10**(-5)\n",
    "\n",
    "salida = metodo_potencia(N, n, A, x, tol)\n",
    "\n",
    "print(salida)\n"
   ]
  },
  {
   "cell_type": "markdown",
   "metadata": {},
   "source": [
    "### Caso 6 (Matriz F)\n"
   ]
  },
  {
   "cell_type": "code",
   "execution_count": null,
   "metadata": {},
   "outputs": [
    {
     "name": "stdout",
     "output_type": "stream",
     "text": [
      "El procedimiento fue exitoso: \n",
      "El autovalor es: 4.124885419764574, y el autovector es [1.         0.90539067 0.60974737].\n"
     ]
    }
   ],
   "source": [
    "N: int = 500\n",
    "A = [[2,1,2],[1,1,3],[1,1,1]]\n",
    "n: int = len(A)\n",
    "x = [1, 1, 1]\n",
    "tol: float = 10**(-16)\n",
    "\n",
    "salida = metodo_potencia(N, n, A, x, tol)\n",
    "\n",
    "print(salida)\n"
   ]
  },
  {
   "cell_type": "markdown",
   "metadata": {},
   "source": [
    "### Caso 7 (Matriz G)"
   ]
  },
  {
   "cell_type": "code",
   "execution_count": null,
   "metadata": {},
   "outputs": [
    {
     "name": "stdout",
     "output_type": "stream",
     "text": [
      "El procedimiento fue exitoso: \n",
      "El autovalor es: 6.634534463633597, y el autovector es [1.         0.90243261 1.43747344 1.64731421].\n"
     ]
    }
   ],
   "source": [
    "N: int = 500\n",
    "A = [[1,1,1,2],[2,1,1,1],[3,2,1,2],[2,1,1,4]]\n",
    "n: int = len(A)\n",
    "x = [1, 1, 1,1]\n",
    "tol: float = 10**(-16)\n",
    "\n",
    "salida = metodo_potencia(N, n, A, x, tol)\n",
    "\n",
    "print(salida)\n"
   ]
  },
  {
   "cell_type": "markdown",
   "metadata": {},
   "source": [
    "### Caso 8 (Matriz H)"
   ]
  },
  {
   "cell_type": "code",
   "execution_count": null,
   "metadata": {},
   "outputs": [
    {
     "name": "stdout",
     "output_type": "stream",
     "text": [
      "El procedimiento fue exitoso: \n",
      "El autovalor es: 6.8272622501040425, y el autovector es [1.         0.81439712 1.29294319 1.45276241].\n"
     ]
    }
   ],
   "source": [
    "N: int = 500\n",
    "A = [[1,2,1,2],[2,1,1,1],[3,2,1,2],[2,1,1,4]]\n",
    "n: int = len(A)\n",
    "x = [1, 1, 1,1]\n",
    "tol: float = 10**(-16)\n",
    "\n",
    "salida = metodo_potencia(N, n, A, x, tol)\n",
    "\n",
    "print(salida)\n"
   ]
  }
 ],
 "metadata": {
  "kernelspec": {
   "display_name": "Python 3",
   "language": "python",
   "name": "python3"
  },
  "language_info": {
   "codemirror_mode": {
    "name": "ipython",
    "version": 3
   },
   "file_extension": ".py",
   "mimetype": "text/x-python",
   "name": "python",
   "nbconvert_exporter": "python",
   "pygments_lexer": "ipython3",
   "version": "3.11.5"
  }
 },
 "nbformat": 4,
 "nbformat_minor": 2
}
