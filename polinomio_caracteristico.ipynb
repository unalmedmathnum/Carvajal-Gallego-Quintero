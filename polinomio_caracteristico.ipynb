{
 "cells": [
  {
   "cell_type": "code",
   "execution_count": 85,
   "metadata": {
    "id": "8KolsjBeFmOj"
   },
   "outputs": [],
   "source": [
    "import numpy as np"
   ]
  },
  {
   "cell_type": "markdown",
   "metadata": {},
   "source": [
    "## Definición de la función ingresar la Matriz\n",
    "Esta función se define para que el usuario pueda ingresa la matriz cuadrada y de entradas reales para la que desee encontrar valores y vectores propias"
   ]
  },
  {
   "cell_type": "code",
   "execution_count": 86,
   "metadata": {
    "id": "Tpsyon63oHD6"
   },
   "outputs": [],
   "source": [
    "def ingresar_matriz():\n",
    "    # Solicitar las dimensiones de la matriz\n",
    "    filas = int(input(\"Ingresa el número de filas: \"))\n",
    "    columnas = int(input(\"Ingresa el número de columnas: \"))\n",
    "\n",
    "    print(f\"Por favor, introduce las filas de la matriz con los elementos separados por espacio:\")\n",
    "    matriz = []\n",
    "\n",
    "    # Recopilar las filas de la matriz\n",
    "    for i in range(filas):\n",
    "        while True:\n",
    "            try:\n",
    "                fila = list(map(float, input(f\"Fila {i + 1}: \").split()))\n",
    "                if len(fila) != columnas:\n",
    "                    raise ValueError(f\"La fila debe tener exactamente {columnas} elementos.\")\n",
    "                matriz.append(fila)\n",
    "                break\n",
    "            except ValueError as e:\n",
    "                print(f\"Error: {e}. Intenta de nuevo.\")\n",
    "\n",
    "    return matriz"
   ]
  },
  {
   "cell_type": "markdown",
   "metadata": {
    "id": "11N1AC9UGkA2"
   },
   "source": [
    "## Ingreso de datos\n",
    "se debe ingresar el numero de filas y columnas de la matriz para la que se desea encontrar los valores y vectores propios, y los valores de las entradas de la matriz ingrsadas por filas y separando cada entrada por espacios "
   ]
  },
  {
   "cell_type": "code",
   "execution_count": 87,
   "metadata": {
    "colab": {
     "base_uri": "https://localhost:8080/"
    },
    "id": "1r36PwJVF1bs",
    "outputId": "7dd61290-fe6a-431a-c34d-c24ffb5253fb"
   },
   "outputs": [
    {
     "name": "stdout",
     "output_type": "stream",
     "text": [
      "Por favor, introduce las filas de la matriz con los elementos separados por espacio:\n",
      "[[2. 1.]\n",
      " [3. 4.]]\n"
     ]
    }
   ],
   "source": [
    "A = np.array(ingresar_matriz())\n",
    "print(A)"
   ]
  },
  {
   "cell_type": "markdown",
   "metadata": {},
   "source": [
    "## Definición de la cota en la que encontraremos las raices del polinomio\n",
    "\n",
    "En la siguente casilla se calcula una cota la cota de cauchy-lagrange donde sabemos que existen todas las raices del polinomio "
   ]
  },
  {
   "cell_type": "code",
   "execution_count": 88,
   "metadata": {
    "colab": {
     "base_uri": "https://localhost:8080/"
    },
    "id": "Nt76YUWoKooP",
    "outputId": "842e3280-11b4-4cad-b829-74d95710d8d2"
   },
   "outputs": [],
   "source": [
    "B = 1 + max(np.abs(np.poly(A)/np.poly(A)[0])) #calculo de la cota de cauchy-lagrage para polinomios\n"
   ]
  },
  {
   "cell_type": "markdown",
   "metadata": {},
   "source": [
    "## Creamos la función evaluar\n",
    "Creamos la función evaluar para evaluar cada polinomio dado por el críterio de strums en los extremos de la partición de [-1,1] "
   ]
  },
  {
   "cell_type": "code",
   "execution_count": 89,
   "metadata": {
    "id": "csHVhAMykXdH"
   },
   "outputs": [],
   "source": [
    "def evaluar(pol, x): #definiion de la funciòn evaluar para polinomios\n",
    "  pol = pol.copy()\n",
    "  n = len(pol) - 1\n",
    "  return sum([pol[i] * x ** (n-i) for i in range(n+1)])"
   ]
  },
  {
   "cell_type": "markdown",
   "metadata": {},
   "source": [
    "## Criterio de Strums \n",
    "creamos  la sucesion P de polinomios dados por el teorema de strums, teniendo en cuenta que el polinomio tiene n raices reales, para las raices de multiplicidad mayor a 1 este programa falla"
   ]
  },
  {
   "cell_type": "code",
   "execution_count": 90,
   "metadata": {
    "id": "z2LzxQNWNloH"
   },
   "outputs": [],
   "source": [
    "#criterio de strums#\n",
    "P = []#sucesión de polinomios\n",
    "n = A.shape[0]#dimensiòn de la matriz por tanto numero de iteraciones de la sucesión\n",
    "polinomio_original = np.poly(A)#determinante de (A-I\\landa)\n",
    "polinomio_polarizado = np.asarray([polinomio_original[i] * B ** (n - i) for i in range(n + 1)]) #cambio de variable#\n",
    "P.append(polinomio_polarizado)#P_0 primer tèrmino de la sucesión\n",
    "P.append(np.array([P[0][i] * (n-i) for i in range(0, n)]))#P_1 segundo término de la sucesión\n",
    "\n",
    "for i in range(2, n + 1):\n",
    "  P.append(-np.polynomial.polynomial.polydiv(P[i-2], P[i-1])[1])#descripción\n"
   ]
  },
  {
   "cell_type": "markdown",
   "metadata": {},
   "source": [
    "## Conteo de raíces\n",
    "\n",
    "Definimos esta función para contar cuantas raices existen en cada intervalo utilizando el críterio de strums"
   ]
  },
  {
   "cell_type": "code",
   "execution_count": 91,
   "metadata": {
    "id": "Hra-zU1qw598"
   },
   "outputs": [],
   "source": [
    "def conteo_raices(intervalo):\n",
    "  (a, b) = intervalo\n",
    "  conteo_a = 0 #conteo de los cambios de signos en cada uno de los intervalos dados por la particion en la lista dada por el teorema de strums evaluada en los limites inferiores de cada subintervalo dada por la particiones\n",
    "  for i in range(1, n+1):\n",
    "    if evaluar(P[i-1], a) * evaluar(P[i],a) < 0:\n",
    "      conteo_a += 1\n",
    "\n",
    "  conteo_b = 0 #conteo de los cambios de signos en cada uno de los intervalos dados por la particion\n",
    "  for i in range(1,n+1):\n",
    "    if evaluar(P[i-1], b)*evaluar(P[i],b) < 0:\n",
    "      conteo_b += 1\n",
    "\n",
    "  return conteo_a - conteo_b #numero de raices en los intervalos encontrados en la partición#"
   ]
  },
  {
   "cell_type": "markdown",
   "metadata": {},
   "source": [
    "## Partición del intervalo \n",
    " Estamos partiendo  el intervalo a la mitad [-1,1] en el cual parematrizamos el polinomio y vuelve a partir en la mitad los intervalos en los cuales tiene mas de una raiz contando cada cuantas raices tiene en cada sub intervalo con el criterio de strum dado por la partición"
   ]
  },
  {
   "cell_type": "code",
   "execution_count": 92,
   "metadata": {
    "id": "GXvID2RBu2ac"
   },
   "outputs": [],
   "source": [
    "max_raices = conteo_raices((-1, 1))\n",
    "n1 = 0\n",
    "while max_raices > 1:\n",
    "  k = 2 ** n1\n",
    "  intervalos = [(-1 + j / k, - 1 + (j + 1) / k) for j in range(2 * k)] #particion del intervalo [-1,1]#\n",
    "\n",
    "  max_raices = 0\n",
    "  for intervalo in intervalos:\n",
    "\n",
    "    N = conteo_raices(intervalo) #conteo de raices en cada subintervalo definido por la partción\n",
    "\n",
    "    if N > max_raices:\n",
    "      max_raices = N #localización de la raices en las particiones del intervalo[-1,1]\n",
    "  n1 += 1\n"
   ]
  },
  {
   "cell_type": "markdown",
   "metadata": {},
   "source": [
    "## Aislamiento de raíces \n",
    "Estamos creando una lista de intervalos de la partición en los cuales existen únicamente una raíz llamada \"verdaderos intervalos\", con la fiunción conteo la cual ingresa intervalos a la lista si la función conteo de raices en el  es de 1 si no vuelve a partirlo hasta que queden solo los intervalos que contuenen una raiz o descarta los que no tienen raices "
   ]
  },
  {
   "cell_type": "code",
   "execution_count": 93,
   "metadata": {
    "id": "W9c8_Lfe2aFN"
   },
   "outputs": [],
   "source": [
    "#aislamiento de raices#\n",
    "verdaderos_intervalos = []\n",
    "for intervalo in intervalos:\n",
    "  if conteo_raices(intervalo) > 0:\n",
    "    verdaderos_intervalos.append(intervalo)"
   ]
  },
  {
   "cell_type": "markdown",
   "metadata": {},
   "source": [
    "## Bisección \n",
    "\n",
    "En esta casilla se define la función bisección que busca la uníca raiz del polinomio polarizado en los intervalos que se le den "
   ]
  },
  {
   "cell_type": "code",
   "execution_count": 94,
   "metadata": {
    "id": "lHanXxPv6KTd"
   },
   "outputs": [],
   "source": [
    "def biseccion(intervalo, tol): #Función, extremos, y tolerancia\n",
    "  (a, b) = intervalo\n",
    "  p = a + ( b - a ) / 2 #Punto medio del intervalo\n",
    "  if evaluar(P[0], p) == 0 or b-a < tol:\n",
    "    return p\n",
    "  elif evaluar(P[0], a) * evaluar(P[0], p) <0:\n",
    "    return biseccion((a, p),tol)\n",
    "  elif evaluar(P[0], p) * evaluar(P[0], b) <0:\n",
    "    return biseccion((p, b),tol)"
   ]
  },
  {
   "cell_type": "markdown",
   "metadata": {},
   "source": [
    "## Encontrar las raíces del polinomio polarizado\n",
    "\n",
    "Aquí corremos la función bisección en cada uno de los intervalos de la lista de \"intervalos verdaderos\" es decir busca las raices del polinomio polarizado en cada uno de los intervalos en los que sabemos que existe una única raíz"
   ]
  },
  {
   "cell_type": "code",
   "execution_count": 95,
   "metadata": {
    "id": "JTaCwLpR8B-t"
   },
   "outputs": [],
   "source": [
    "#encontrar las raices del polinomio parametrizado usando el método de bisección#\n",
    "raices = []\n",
    "for intervalo in verdaderos_intervalos:\n",
    "  raices.append(biseccion(intervalo, 10**(-10)))"
   ]
  },
  {
   "cell_type": "markdown",
   "metadata": {},
   "source": [
    "## Reparametrización \n",
    "Acá enontramos reparametrizamos las raíces el polinomio polarizado para  dar los valores propios de nuestro polinomio caracteristico "
   ]
  },
  {
   "cell_type": "code",
   "execution_count": 96,
   "metadata": {
    "colab": {
     "base_uri": "https://localhost:8080/"
    },
    "id": "xDEd9KTp8IW5",
    "outputId": "da51caff-cec9-4bec-ff00-ff575955e2f3"
   },
   "outputs": [],
   "source": [
    "valores_propios = [B * raiz for raiz in raices]#reparametrización de las raíces ubicadas en [-B,B]"
   ]
  },
  {
   "cell_type": "markdown",
   "metadata": {},
   "source": [
    "## Definición de la función gradiente conjugado\n",
    "\n",
    "Aca se programa el método de gradiente conjugado pues es más rápido que otros en la convergencia y dada la necesidad de usra tanto calculos y funciones anteriores es el mejor para solucionar el sistema de ecuaciones para encontrar los vectores propios aociados  cada uno de los valores propios de nuestro polinomio característico "
   ]
  },
  {
   "cell_type": "code",
   "execution_count": 97,
   "metadata": {
    "id": "Hzxe6uW1_uk_"
   },
   "outputs": [],
   "source": [
    "#calculo de los vectores propios por gradiente conjugado#\n",
    "import numpy as np\n",
    "\n",
    "def gradiente_conjugado(A, b, x0=None, tol=1e-10, max_iter=1000):\n",
    "\n",
    "    n = len(b)\n",
    "    x = np.zeros_like(b) if x0 is None else x0.copy()  # Vector inicial (usualmente 0)\n",
    "    r = b - np.dot(A, x)  # Resíduo inicial\n",
    "    p = r.copy()  # Dirección de búsqueda inicial\n",
    "\n",
    "    for k in range(max_iter):\n",
    "        # Producto escalar de p con r using .flatten() to ensure 1D arrays for dot product\n",
    "        # This ensures the dot product calculates a scalar as intended.\n",
    "        alpha = np.dot(r.flatten(), r.flatten()) / np.dot(p.flatten(), np.dot(A, p).flatten())\n",
    "\n",
    "        # Actualización de la solución\n",
    "        x = x + alpha * p\n",
    "\n",
    "        # Nuevo residuo\n",
    "        r_new = r - alpha * np.dot(A, p)\n",
    "\n",
    "        # Comprobar la convergencia\n",
    "        if np.linalg.norm(r_new) < tol:\n",
    "            print(f\"Convergió después de {k+1} iteraciones.\")\n",
    "            return x\n",
    "\n",
    "        # Calculamos beta using .flatten() to ensure 1D arrays for dot product\n",
    "        beta = np.dot(r_new.flatten(), r_new.flatten()) / np.dot(r.flatten(), r.flatten())\n",
    "\n",
    "        # Actualizamos la dirección\n",
    "        p = r_new + beta * p\n",
    "\n",
    "        r = r_new  # Actualizamos el residuo\n",
    "\n",
    "    print(\"Alcanzado el número máximo de iteraciones.\")\n",
    "    return x"
   ]
  },
  {
   "cell_type": "markdown",
   "metadata": {},
   "source": [
    "## Vectores propios\n",
    "\n",
    "En la siguiente casilla se ejecutan las funciones anteriores para para encontrar los vectores propios asociado a cada uno de los valores propios asociados y reporta los valores y vectores propios asociados a la matriz ingresada"
   ]
  },
  {
   "cell_type": "code",
   "execution_count": 98,
   "metadata": {
    "colab": {
     "base_uri": "https://localhost:8080/"
    },
    "id": "qH2URfK6DFF7",
    "outputId": "756f983a-f84b-4f5b-9a7d-2aa050654b7d"
   },
   "outputs": [
    {
     "name": "stdout",
     "output_type": "stream",
     "text": [
      "Convergió después de 1 iteraciones.\n",
      "El autovector asociado a 1.0000000000873115 es [[ 0.5]\n",
      " [-0.5]]\n",
      "Convergió después de 1 iteraciones.\n",
      "El autovector asociado a 5.000000000029104 es [[0.5]\n",
      " [1.5]]\n"
     ]
    }
   ],
   "source": [
    "#solucion del sistema de ecuaciones para cada valor propio\n",
    "for valor in valores_propios:\n",
    "  #sistema de ecuaciones para cada valor propio\n",
    "  A_hat = A - valor * np.eye(n) #matriz (A-\\landa I)\n",
    "  b = np.zeros((n,1)) #vector 0 de dimension nx1\n",
    "  x0 = np.ones((n,1))#valor de inicio para el método gauss seidel en este caso la identidad\n",
    "  x = gradiente_conjugado(A_hat,b,x0, 1e-4,100)#solución del sistema de ecuaciones (A-\\landa I)x=0\n",
    "  print(f\"El autovector asociado a {valor} es {x}\")"
   ]
  }
 ],
 "metadata": {
  "colab": {
   "provenance": []
  },
  "kernelspec": {
   "display_name": "Python 3",
   "name": "python3"
  },
  "language_info": {
   "codemirror_mode": {
    "name": "ipython",
    "version": 3
   },
   "file_extension": ".py",
   "mimetype": "text/x-python",
   "name": "python",
   "nbconvert_exporter": "python",
   "pygments_lexer": "ipython3",
   "version": "3.11.4"
  }
 },
 "nbformat": 4,
 "nbformat_minor": 0
}
