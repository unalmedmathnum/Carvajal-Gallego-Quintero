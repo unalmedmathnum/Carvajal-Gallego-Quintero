{
  "nbformat": 4,
  "nbformat_minor": 0,
  "metadata": {
    "colab": {
      "provenance": []
    },
    "kernelspec": {
      "name": "python3",
      "display_name": "Python 3"
    },
    "language_info": {
      "name": "python"
    }
  },
  "cells": [
    {
      "cell_type": "code",
      "execution_count": 362,
      "metadata": {
        "id": "8KolsjBeFmOj"
      },
      "outputs": [],
      "source": [
        "import numpy as np"
      ]
    },
    {
      "cell_type": "code",
      "source": [
        "def ingresar_matriz():\n",
        "    # Solicitar las dimensiones de la matriz\n",
        "    filas = int(input(\"Ingresa el número de filas: \"))\n",
        "    columnas = int(input(\"Ingresa el número de columnas: \"))\n",
        "\n",
        "    print(f\"Por favor, introduce las filas de la matriz con los elementos separados por espacio:\")\n",
        "    matriz = []\n",
        "\n",
        "    # Recopilar las filas de la matriz\n",
        "    for i in range(filas):\n",
        "        while True:\n",
        "            try:\n",
        "                fila = list(map(float, input(f\"Fila {i + 1}: \").split()))\n",
        "                if len(fila) != columnas:\n",
        "                    raise ValueError(f\"La fila debe tener exactamente {columnas} elementos.\")\n",
        "                matriz.append(fila)\n",
        "                break\n",
        "            except ValueError as e:\n",
        "                print(f\"Error: {e}. Intenta de nuevo.\")\n",
        "\n",
        "    return matriz"
      ],
      "metadata": {
        "id": "Tpsyon63oHD6"
      },
      "execution_count": 363,
      "outputs": []
    },
    {
      "cell_type": "markdown",
      "source": [],
      "metadata": {
        "id": "11N1AC9UGkA2"
      }
    },
    {
      "cell_type": "code",
      "source": [
        "A = np.array(ingresar_matriz())"
      ],
      "metadata": {
        "colab": {
          "base_uri": "https://localhost:8080/"
        },
        "id": "1r36PwJVF1bs",
        "outputId": "7dd61290-fe6a-431a-c34d-c24ffb5253fb"
      },
      "execution_count": 364,
      "outputs": [
        {
          "name": "stdout",
          "output_type": "stream",
          "text": [
            "Ingresa el número de filas: 2\n",
            "Ingresa el número de columnas: 2\n",
            "Por favor, introduce las filas de la matriz con los elementos separados por espacio:\n",
            "Fila 1: 2 1\n",
            "Fila 2: 3 4\n"
          ]
        }
      ]
    },
    {
      "cell_type": "code",
      "source": [
        "type(A)"
      ],
      "metadata": {
        "colab": {
          "base_uri": "https://localhost:8080/"
        },
        "id": "r-RJGRaEpQQE",
        "outputId": "46ba0d48-6e0b-495b-b0b6-18d703c0bbd8"
      },
      "execution_count": 365,
      "outputs": [
        {
          "output_type": "execute_result",
          "data": {
            "text/plain": [
              "numpy.ndarray"
            ]
          },
          "metadata": {},
          "execution_count": 365
        }
      ]
    },
    {
      "cell_type": "code",
      "source": [
        "np.poly(A)#determinante de (A-I\\landa)"
      ],
      "metadata": {
        "colab": {
          "base_uri": "https://localhost:8080/"
        },
        "id": "Izkt3H4gGZQv",
        "outputId": "7a70d9a4-1c8e-4aee-8b2f-f2009c7fdc8e"
      },
      "execution_count": 366,
      "outputs": [
        {
          "output_type": "execute_result",
          "data": {
            "text/plain": [
              "array([ 1., -6.,  5.])"
            ]
          },
          "metadata": {},
          "execution_count": 366
        }
      ]
    },
    {
      "cell_type": "code",
      "source": [
        "B = 1 + max(np.abs(np.poly(A)/np.poly(A)[0])) #calculo de la cota de cauchy-lagrage para polinomios\n",
        "B"
      ],
      "metadata": {
        "colab": {
          "base_uri": "https://localhost:8080/"
        },
        "id": "Nt76YUWoKooP",
        "outputId": "842e3280-11b4-4cad-b829-74d95710d8d2"
      },
      "execution_count": 367,
      "outputs": [
        {
          "output_type": "execute_result",
          "data": {
            "text/plain": [
              "7.0"
            ]
          },
          "metadata": {},
          "execution_count": 367
        }
      ]
    },
    {
      "cell_type": "code",
      "source": [
        "def evaluar(pol, x): #definiion de la funciòn evalur para polinomios\n",
        "  pol = pol.copy()\n",
        "  n = len(pol) - 1\n",
        "  return sum([pol[i] * x ** (n-i) for i in range(n+1)])"
      ],
      "metadata": {
        "id": "csHVhAMykXdH"
      },
      "execution_count": 368,
      "outputs": []
    },
    {
      "cell_type": "code",
      "source": [
        "#criterio de strums#\n",
        "P = []#sucesión de polinomios\n",
        "n = A.shape[0]#dimensiòn de la matriz por tanto numero de iteraciones d ela sucesión\n",
        "polinomio_original = np.poly(A)#determinante de (A-I\\landa)\n",
        "polinomio_polarizado = np.asarray([polinomio_original[i] * B ** (n - i) for i in range(n + 1)]) #cambio de variable#\n",
        "P.append(polinomio_polarizado)#P_0 primer tèrmino de la sucesión\n",
        "P.append(np.array([P[0][i] * (n-i) for i in range(0, n)]))#P_1 segundo término de la sucesión\n",
        "\n",
        "for i in range(2, n + 1):\n",
        "  P.append(-np.polynomial.polynomial.polydiv(P[i-2], P[i-1])[1])#descripción\n"
      ],
      "metadata": {
        "id": "z2LzxQNWNloH"
      },
      "execution_count": 369,
      "outputs": []
    },
    {
      "cell_type": "code",
      "source": [
        "for pol in P:\n",
        "  print(evaluar(pol, -1))"
      ],
      "metadata": {
        "colab": {
          "base_uri": "https://localhost:8080/"
        },
        "id": "rLTU57csrL7b",
        "outputId": "69a6dfbe-3195-46e7-c1d7-6fd5189a26ef"
      },
      "execution_count": 370,
      "outputs": [
        {
          "output_type": "stream",
          "name": "stdout",
          "text": [
            "96.0\n",
            "-140.0\n",
            "21.777777777777786\n"
          ]
        }
      ]
    },
    {
      "cell_type": "code",
      "source": [
        "#evaluar la lista P en 0#\n",
        "for pol in P:\n",
        "    pol[-1]"
      ],
      "metadata": {
        "id": "IOJKc8vgas57"
      },
      "execution_count": 371,
      "outputs": []
    },
    {
      "cell_type": "code",
      "source": [
        "#evaluar la lista P en 1#\n",
        "for pol in P:\n",
        "    np.sum(pol)"
      ],
      "metadata": {
        "id": "TJh8WDTRcFtA"
      },
      "execution_count": 372,
      "outputs": []
    },
    {
      "cell_type": "code",
      "source": [
        "#conteo de cambios de signo en la lsita p(-1)#\n",
        "conteo_0 = 0\n",
        "for i in range(1, n+1):\n",
        "  if evaluar(P[i-1], -1) * evaluar(P[i],-1) < 0:\n",
        "    conteo_0 += 1\n",
        "print(conteo_0)"
      ],
      "metadata": {
        "colab": {
          "base_uri": "https://localhost:8080/"
        },
        "id": "WrOxht8XeojH",
        "outputId": "4169e744-77d1-4676-9651-fda5a5243801"
      },
      "execution_count": 373,
      "outputs": [
        {
          "output_type": "stream",
          "name": "stdout",
          "text": [
            "2\n"
          ]
        }
      ]
    },
    {
      "cell_type": "code",
      "source": [
        "#conteo de cambios de signo para la lista p(1)#\n",
        "conteo_1=0\n",
        "for i in range(1,n+1):\n",
        "  if evaluar(P[i-1], 1)*evaluar(P[i],1) < 0:\n",
        "    conteo_1 += 1\n",
        "print(conteo_1)"
      ],
      "metadata": {
        "colab": {
          "base_uri": "https://localhost:8080/"
        },
        "id": "0TLEq8jUfqOn",
        "outputId": "7dc3de6f-a3e7-4481-8b1c-ea05e94421c2"
      },
      "execution_count": 374,
      "outputs": [
        {
          "output_type": "stream",
          "name": "stdout",
          "text": [
            "0\n"
          ]
        }
      ]
    },
    {
      "cell_type": "code",
      "source": [
        "N=conteo_0-conteo_1 #numero de raices\n",
        "print(N)"
      ],
      "metadata": {
        "colab": {
          "base_uri": "https://localhost:8080/"
        },
        "id": "LOnnuP8DuYxz",
        "outputId": "db186947-eeb9-4d65-e843-148815760dde"
      },
      "execution_count": 375,
      "outputs": [
        {
          "output_type": "stream",
          "name": "stdout",
          "text": [
            "2\n"
          ]
        }
      ]
    },
    {
      "cell_type": "code",
      "source": [
        "def conteo_raices(intervalo):\n",
        "  (a, b) = intervalo\n",
        "  conteo_a = 0 #conteo de los cambios de signos en cada uno de los intervalos dados por la particion en la lista dada por el teorema de strums evaluada en los limites inferiores de cada subintervalo dada por la particiones\n",
        "  for i in range(1, n+1):\n",
        "    if evaluar(P[i-1], a) * evaluar(P[i],a) < 0:\n",
        "      conteo_a += 1\n",
        "\n",
        "  conteo_b = 0 #conteo de los cambios de signos en cada uno de los intervalos dados por la particion\n",
        "  for i in range(1,n+1):\n",
        "    if evaluar(P[i-1], b)*evaluar(P[i],b) < 0:\n",
        "      conteo_b += 1\n",
        "\n",
        "  return conteo_a - conteo_b #numero de raices en los intervalos encontrados en la partición#"
      ],
      "metadata": {
        "id": "Hra-zU1qw598"
      },
      "execution_count": 376,
      "outputs": []
    },
    {
      "cell_type": "code",
      "source": [
        "max_raices = conteo_raices((-1, 1))\n",
        "n1 = 0\n",
        "while max_raices > 1:\n",
        "  k = 2 ** n1\n",
        "  intervalos = [(-1 + j / k, - 1 + (j + 1) / k) for j in range(2 * k)] #particion del intervalo [-1,1]#\n",
        "\n",
        "  max_raices = 0\n",
        "  for intervalo in intervalos:\n",
        "\n",
        "    N = conteo_raices(intervalo) #conteo de raices en cada subintervalo definido por la partción\n",
        "\n",
        "    if N > max_raices:\n",
        "      max_raices = N #localización de la raices en las particiones del intervalo[-1,1]\n",
        "  n1 += 1\n"
      ],
      "metadata": {
        "id": "GXvID2RBu2ac"
      },
      "execution_count": 377,
      "outputs": []
    },
    {
      "cell_type": "code",
      "source": [
        "#aislamiento de raices#\n",
        "verdaderos_intervalos = []\n",
        "for intervalo in intervalos:\n",
        "  if conteo_raices(intervalo) > 0:\n",
        "    verdaderos_intervalos.append(intervalo)"
      ],
      "metadata": {
        "id": "W9c8_Lfe2aFN"
      },
      "execution_count": 378,
      "outputs": []
    },
    {
      "cell_type": "code",
      "source": [
        "verdaderos_intervalos"
      ],
      "metadata": {
        "colab": {
          "base_uri": "https://localhost:8080/"
        },
        "id": "Qc_sLdop5Q2h",
        "outputId": "fd6eccc9-9c76-4bd2-addd-d276977ecb85"
      },
      "execution_count": 379,
      "outputs": [
        {
          "output_type": "execute_result",
          "data": {
            "text/plain": [
              "[(0.0, 0.5), (0.5, 1.0)]"
            ]
          },
          "metadata": {},
          "execution_count": 379
        }
      ]
    },
    {
      "cell_type": "code",
      "source": [
        "#reprametrización de los intervalos donde se encuentaran las raices en el intervalos [-B,B]\n",
        "for intervalo in verdaderos_intervalos:\n",
        "  print((intervalo[0] * B, intervalo[1] * B))"
      ],
      "metadata": {
        "colab": {
          "base_uri": "https://localhost:8080/"
        },
        "id": "C1OiIuZe8qcn",
        "outputId": "6931e421-a56f-4b99-d607-862bb0949a6e"
      },
      "execution_count": 380,
      "outputs": [
        {
          "output_type": "stream",
          "name": "stdout",
          "text": [
            "(0.0, 3.5)\n",
            "(3.5, 7.0)\n"
          ]
        }
      ]
    },
    {
      "cell_type": "code",
      "source": [
        "def biseccion(intervalo, tol): #Función, extremos, y tolerancia\n",
        "  (a, b) = intervalo\n",
        "  p = a + ( b - a ) / 2 #Punto medio del intervalo\n",
        "  if evaluar(P[0], p) == 0 or b-a < tol:\n",
        "    return p\n",
        "  elif evaluar(P[0], a) * evaluar(P[0], p) <0:\n",
        "    return biseccion((a, p),tol)\n",
        "  elif evaluar(P[0], p) * evaluar(P[0], b) <0:\n",
        "    return biseccion((p, b),tol)"
      ],
      "metadata": {
        "id": "lHanXxPv6KTd"
      },
      "execution_count": 381,
      "outputs": []
    },
    {
      "cell_type": "code",
      "source": [
        "#encontrar las raices del polinomio parametrizado usando el método de bisección#\n",
        "raices = []\n",
        "for intervalo in verdaderos_intervalos:\n",
        "  raices.append(biseccion(intervalo, 10**(-10)))"
      ],
      "metadata": {
        "id": "JTaCwLpR8B-t"
      },
      "execution_count": 382,
      "outputs": []
    },
    {
      "cell_type": "code",
      "source": [
        "valores_propios = [B * raiz for raiz in raices]#reparametrización de las raíces ubicadas en [-B,B]\n",
        "valores_propios"
      ],
      "metadata": {
        "colab": {
          "base_uri": "https://localhost:8080/"
        },
        "id": "xDEd9KTp8IW5",
        "outputId": "da51caff-cec9-4bec-ff00-ff575955e2f3"
      },
      "execution_count": 383,
      "outputs": [
        {
          "output_type": "execute_result",
          "data": {
            "text/plain": [
              "[1.0000000000873115, 5.000000000029104]"
            ]
          },
          "metadata": {},
          "execution_count": 383
        }
      ]
    },
    {
      "cell_type": "code",
      "source": [
        "#calculo de los vectores propios por gauss seidel#\n",
        "import numpy as np\n",
        "\n",
        "def gradiente_conjugado(A, b, x0=None, tol=1e-10, max_iter=1000):\n",
        "\n",
        "    n = len(b)\n",
        "    x = np.zeros_like(b) if x0 is None else x0.copy()  # Vector inicial (usualmente 0)\n",
        "    r = b - np.dot(A, x)  # Resíduo inicial\n",
        "    p = r.copy()  # Dirección de búsqueda inicial\n",
        "\n",
        "    for k in range(max_iter):\n",
        "        # Producto escalar de p con r using .flatten() to ensure 1D arrays for dot product\n",
        "        # This ensures the dot product calculates a scalar as intended.\n",
        "        alpha = np.dot(r.flatten(), r.flatten()) / np.dot(p.flatten(), np.dot(A, p).flatten())\n",
        "\n",
        "        # Actualización de la solución\n",
        "        x = x + alpha * p\n",
        "\n",
        "        # Nuevo residuo\n",
        "        r_new = r - alpha * np.dot(A, p)\n",
        "\n",
        "        # Comprobar la convergencia\n",
        "        if np.linalg.norm(r_new) < tol:\n",
        "            print(f\"Convergió después de {k+1} iteraciones.\")\n",
        "            return x\n",
        "\n",
        "        # Calculamos beta using .flatten() to ensure 1D arrays for dot product\n",
        "        beta = np.dot(r_new.flatten(), r_new.flatten()) / np.dot(r.flatten(), r.flatten())\n",
        "\n",
        "        # Actualizamos la dirección\n",
        "        p = r_new + beta * p\n",
        "\n",
        "        r = r_new  # Actualizamos el residuo\n",
        "\n",
        "    print(\"Alcanzado el número máximo de iteraciones.\")\n",
        "    return x"
      ],
      "metadata": {
        "id": "Hzxe6uW1_uk_"
      },
      "execution_count": 384,
      "outputs": []
    },
    {
      "cell_type": "code",
      "source": [
        "#solucion del sistema de ecuaciones para cada valor propio\n",
        "for valor in valores_propios:\n",
        "  #sistema de ecuaciones para cada valor propio\n",
        "  A_hat = A - valor * np.eye(n) #matriz (A-\\landa I)\n",
        "  b = np.zeros((n,1)) #vector 0 de dimension nx1\n",
        "  x0 = np.ones((n,1))#valor de inicio para el método gauss seidel en este caso la identidad\n",
        "  x = gradiente_conjugado(A_hat,b,x0, 1e-4,100)#solución del sistema de ecuaciones (A-\\landa I)x=0\n",
        "  print(f\"El autovector asociado a {valor} es {x}\")"
      ],
      "metadata": {
        "colab": {
          "base_uri": "https://localhost:8080/"
        },
        "id": "qH2URfK6DFF7",
        "outputId": "756f983a-f84b-4f5b-9a7d-2aa050654b7d"
      },
      "execution_count": 385,
      "outputs": [
        {
          "output_type": "stream",
          "name": "stdout",
          "text": [
            "Convergió después de 1 iteraciones.\n",
            "El autovector asociado a 1.0000000000873115 es [[ 0.5]\n",
            " [-0.5]]\n",
            "Convergió después de 1 iteraciones.\n",
            "El autovector asociado a 5.000000000029104 es [[0.5]\n",
            " [1.5]]\n"
          ]
        }
      ]
    },
    {
      "cell_type": "code",
      "source": [],
      "metadata": {
        "id": "UJSn6kUkDXRD"
      },
      "execution_count": 385,
      "outputs": []
    }
  ]
}